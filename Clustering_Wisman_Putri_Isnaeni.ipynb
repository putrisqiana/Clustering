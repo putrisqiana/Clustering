{
  "nbformat": 4,
  "nbformat_minor": 0,
  "metadata": {
    "colab": {
      "name": "Clustering Wisman Putri Isnaeni.ipynb",
      "version": "0.3.2",
      "provenance": []
    },
    "kernelspec": {
      "name": "python3",
      "display_name": "Python 3"
    }
  },
  "cells": [
    {
      "cell_type": "code",
      "metadata": {
        "id": "s2gEI09IdDVp",
        "colab_type": "code",
        "colab": {}
      },
      "source": [
        "%matplotlib inline \n",
        "import matplotlib.pyplot as plt \n",
        "import numpy as np \n",
        "import pandas as pd \n",
        "from sklearn.cluster import KMeans"
      ],
      "execution_count": 0,
      "outputs": []
    },
    {
      "cell_type": "markdown",
      "metadata": {
        "id": "AGGNn4YNrm0U",
        "colab_type": "text"
      },
      "source": [
        "## Introduction\n",
        "\n",
        "Ada sebuah Data Jumlah Kunjungan Wisatawan Mancanegara Berdasarkan pintu masuk Bandara dan Pelabuhan di Tahun 2014 yang akan dilakukan clustering untuk masing-masing pintu masuk tersebut."
      ]
    },
    {
      "cell_type": "code",
      "metadata": {
        "id": "_Hx7IzfzdLPt",
        "colab_type": "code",
        "colab": {
          "base_uri": "https://localhost:8080/",
          "height": 68
        },
        "outputId": "e00047cd-4dd6-4892-aa04-a7ed3bad5466"
      },
      "source": [
        "dataset = pd.read_csv('Kunjungan-Wisman.csv')\n",
        "dataset.keys()"
      ],
      "execution_count": 149,
      "outputs": [
        {
          "output_type": "execute_result",
          "data": {
            "text/plain": [
              "Index(['pintu_masuk', 'januari', 'februari', 'maret', 'april', 'mei', 'juni',\n",
              "       'juli', 'agustus', 'september', 'oktober', 'november', 'desember'],\n",
              "      dtype='object')"
            ]
          },
          "metadata": {
            "tags": []
          },
          "execution_count": 149
        }
      ]
    },
    {
      "cell_type": "code",
      "metadata": {
        "id": "3qmaPg8EdgIp",
        "colab_type": "code",
        "colab": {
          "base_uri": "https://localhost:8080/",
          "height": 204
        },
        "outputId": "d6b9d30e-d636-426e-8a81-3e141d9e4abc"
      },
      "source": [
        "dataset.head()"
      ],
      "execution_count": 150,
      "outputs": [
        {
          "output_type": "execute_result",
          "data": {
            "text/html": [
              "<div>\n",
              "<style scoped>\n",
              "    .dataframe tbody tr th:only-of-type {\n",
              "        vertical-align: middle;\n",
              "    }\n",
              "\n",
              "    .dataframe tbody tr th {\n",
              "        vertical-align: top;\n",
              "    }\n",
              "\n",
              "    .dataframe thead th {\n",
              "        text-align: right;\n",
              "    }\n",
              "</style>\n",
              "<table border=\"1\" class=\"dataframe\">\n",
              "  <thead>\n",
              "    <tr style=\"text-align: right;\">\n",
              "      <th></th>\n",
              "      <th>pintu_masuk</th>\n",
              "      <th>januari</th>\n",
              "      <th>februari</th>\n",
              "      <th>maret</th>\n",
              "      <th>april</th>\n",
              "      <th>mei</th>\n",
              "      <th>juni</th>\n",
              "      <th>juli</th>\n",
              "      <th>agustus</th>\n",
              "      <th>september</th>\n",
              "      <th>oktober</th>\n",
              "      <th>november</th>\n",
              "      <th>desember</th>\n",
              "    </tr>\n",
              "  </thead>\n",
              "  <tbody>\n",
              "    <tr>\n",
              "      <th>0</th>\n",
              "      <td>Soekarno-Hatta</td>\n",
              "      <td>187123.0</td>\n",
              "      <td>180362.0</td>\n",
              "      <td>194720.0</td>\n",
              "      <td>180787.0</td>\n",
              "      <td>184534.0</td>\n",
              "      <td>208624.0</td>\n",
              "      <td>169135.0</td>\n",
              "      <td>218903.0</td>\n",
              "      <td>174169.0</td>\n",
              "      <td>177274.0</td>\n",
              "      <td>180208.0</td>\n",
              "      <td>190598.0</td>\n",
              "    </tr>\n",
              "    <tr>\n",
              "      <th>1</th>\n",
              "      <td>Ngurah Rai</td>\n",
              "      <td>278685.0</td>\n",
              "      <td>269367.0</td>\n",
              "      <td>268418.0</td>\n",
              "      <td>277925.0</td>\n",
              "      <td>285965.0</td>\n",
              "      <td>329654.0</td>\n",
              "      <td>358907.0</td>\n",
              "      <td>336628.0</td>\n",
              "      <td>352017.0</td>\n",
              "      <td>339200.0</td>\n",
              "      <td>293858.0</td>\n",
              "      <td>341111.0</td>\n",
              "    </tr>\n",
              "    <tr>\n",
              "      <th>2</th>\n",
              "      <td>Kualanamu Int'.</td>\n",
              "      <td>19029.0</td>\n",
              "      <td>17780.0</td>\n",
              "      <td>18493.0</td>\n",
              "      <td>15956.0</td>\n",
              "      <td>19781.0</td>\n",
              "      <td>19376.0</td>\n",
              "      <td>16579.0</td>\n",
              "      <td>16901.0</td>\n",
              "      <td>17792.0</td>\n",
              "      <td>20946.0</td>\n",
              "      <td>22848.0</td>\n",
              "      <td>29243.0</td>\n",
              "    </tr>\n",
              "    <tr>\n",
              "      <th>3</th>\n",
              "      <td>Batam</td>\n",
              "      <td>119054.0</td>\n",
              "      <td>97445.0</td>\n",
              "      <td>122019.0</td>\n",
              "      <td>111929.0</td>\n",
              "      <td>115323.0</td>\n",
              "      <td>140218.0</td>\n",
              "      <td>101966.0</td>\n",
              "      <td>111455.0</td>\n",
              "      <td>113090.0</td>\n",
              "      <td>126169.0</td>\n",
              "      <td>123505.0</td>\n",
              "      <td>171907.0</td>\n",
              "    </tr>\n",
              "    <tr>\n",
              "      <th>4</th>\n",
              "      <td>Sam Ratulangi</td>\n",
              "      <td>1694.0</td>\n",
              "      <td>1079.0</td>\n",
              "      <td>1340.0</td>\n",
              "      <td>1079.0</td>\n",
              "      <td>1365.0</td>\n",
              "      <td>1487.0</td>\n",
              "      <td>1652.0</td>\n",
              "      <td>1854.0</td>\n",
              "      <td>1652.0</td>\n",
              "      <td>1642.0</td>\n",
              "      <td>943.0</td>\n",
              "      <td>1492.0</td>\n",
              "    </tr>\n",
              "  </tbody>\n",
              "</table>\n",
              "</div>"
            ],
            "text/plain": [
              "       pintu_masuk   januari  februari  ...   oktober  november  desember\n",
              "0   Soekarno-Hatta  187123.0  180362.0  ...  177274.0  180208.0  190598.0\n",
              "1       Ngurah Rai  278685.0  269367.0  ...  339200.0  293858.0  341111.0\n",
              "2  Kualanamu Int'.   19029.0   17780.0  ...   20946.0   22848.0   29243.0\n",
              "3            Batam  119054.0   97445.0  ...  126169.0  123505.0  171907.0\n",
              "4    Sam Ratulangi    1694.0    1079.0  ...    1642.0     943.0    1492.0\n",
              "\n",
              "[5 rows x 13 columns]"
            ]
          },
          "metadata": {
            "tags": []
          },
          "execution_count": 150
        }
      ]
    },
    {
      "cell_type": "markdown",
      "metadata": {
        "id": "yO2y6qIlyDSs",
        "colab_type": "text"
      },
      "source": [
        "### Sum\n",
        "\n",
        "Membuat hasil kunjungan untuk setiap tahun berdasarkan penjumlahan 12 bulan pada masing-masing pintu masuk"
      ]
    },
    {
      "cell_type": "code",
      "metadata": {
        "id": "bFmqsnM7p2VE",
        "colab_type": "code",
        "colab": {
          "base_uri": "https://localhost:8080/",
          "height": 275
        },
        "outputId": "41fb707e-78dc-40be-f445-154b90631eb0"
      },
      "source": [
        "dataset['Sum']= dataset.sum(axis=1)\n",
        "dataset.head()"
      ],
      "execution_count": 151,
      "outputs": [
        {
          "output_type": "execute_result",
          "data": {
            "text/html": [
              "<div>\n",
              "<style scoped>\n",
              "    .dataframe tbody tr th:only-of-type {\n",
              "        vertical-align: middle;\n",
              "    }\n",
              "\n",
              "    .dataframe tbody tr th {\n",
              "        vertical-align: top;\n",
              "    }\n",
              "\n",
              "    .dataframe thead th {\n",
              "        text-align: right;\n",
              "    }\n",
              "</style>\n",
              "<table border=\"1\" class=\"dataframe\">\n",
              "  <thead>\n",
              "    <tr style=\"text-align: right;\">\n",
              "      <th></th>\n",
              "      <th>pintu_masuk</th>\n",
              "      <th>januari</th>\n",
              "      <th>februari</th>\n",
              "      <th>maret</th>\n",
              "      <th>april</th>\n",
              "      <th>mei</th>\n",
              "      <th>juni</th>\n",
              "      <th>juli</th>\n",
              "      <th>agustus</th>\n",
              "      <th>september</th>\n",
              "      <th>oktober</th>\n",
              "      <th>november</th>\n",
              "      <th>desember</th>\n",
              "      <th>Sum</th>\n",
              "    </tr>\n",
              "  </thead>\n",
              "  <tbody>\n",
              "    <tr>\n",
              "      <th>0</th>\n",
              "      <td>Soekarno-Hatta</td>\n",
              "      <td>187123.0</td>\n",
              "      <td>180362.0</td>\n",
              "      <td>194720.0</td>\n",
              "      <td>180787.0</td>\n",
              "      <td>184534.0</td>\n",
              "      <td>208624.0</td>\n",
              "      <td>169135.0</td>\n",
              "      <td>218903.0</td>\n",
              "      <td>174169.0</td>\n",
              "      <td>177274.0</td>\n",
              "      <td>180208.0</td>\n",
              "      <td>190598.0</td>\n",
              "      <td>2246437.0</td>\n",
              "    </tr>\n",
              "    <tr>\n",
              "      <th>1</th>\n",
              "      <td>Ngurah Rai</td>\n",
              "      <td>278685.0</td>\n",
              "      <td>269367.0</td>\n",
              "      <td>268418.0</td>\n",
              "      <td>277925.0</td>\n",
              "      <td>285965.0</td>\n",
              "      <td>329654.0</td>\n",
              "      <td>358907.0</td>\n",
              "      <td>336628.0</td>\n",
              "      <td>352017.0</td>\n",
              "      <td>339200.0</td>\n",
              "      <td>293858.0</td>\n",
              "      <td>341111.0</td>\n",
              "      <td>3731735.0</td>\n",
              "    </tr>\n",
              "    <tr>\n",
              "      <th>2</th>\n",
              "      <td>Kualanamu Int'.</td>\n",
              "      <td>19029.0</td>\n",
              "      <td>17780.0</td>\n",
              "      <td>18493.0</td>\n",
              "      <td>15956.0</td>\n",
              "      <td>19781.0</td>\n",
              "      <td>19376.0</td>\n",
              "      <td>16579.0</td>\n",
              "      <td>16901.0</td>\n",
              "      <td>17792.0</td>\n",
              "      <td>20946.0</td>\n",
              "      <td>22848.0</td>\n",
              "      <td>29243.0</td>\n",
              "      <td>234724.0</td>\n",
              "    </tr>\n",
              "    <tr>\n",
              "      <th>3</th>\n",
              "      <td>Batam</td>\n",
              "      <td>119054.0</td>\n",
              "      <td>97445.0</td>\n",
              "      <td>122019.0</td>\n",
              "      <td>111929.0</td>\n",
              "      <td>115323.0</td>\n",
              "      <td>140218.0</td>\n",
              "      <td>101966.0</td>\n",
              "      <td>111455.0</td>\n",
              "      <td>113090.0</td>\n",
              "      <td>126169.0</td>\n",
              "      <td>123505.0</td>\n",
              "      <td>171907.0</td>\n",
              "      <td>1454080.0</td>\n",
              "    </tr>\n",
              "    <tr>\n",
              "      <th>4</th>\n",
              "      <td>Sam Ratulangi</td>\n",
              "      <td>1694.0</td>\n",
              "      <td>1079.0</td>\n",
              "      <td>1340.0</td>\n",
              "      <td>1079.0</td>\n",
              "      <td>1365.0</td>\n",
              "      <td>1487.0</td>\n",
              "      <td>1652.0</td>\n",
              "      <td>1854.0</td>\n",
              "      <td>1652.0</td>\n",
              "      <td>1642.0</td>\n",
              "      <td>943.0</td>\n",
              "      <td>1492.0</td>\n",
              "      <td>17279.0</td>\n",
              "    </tr>\n",
              "  </tbody>\n",
              "</table>\n",
              "</div>"
            ],
            "text/plain": [
              "       pintu_masuk   januari  februari  ...  november  desember        Sum\n",
              "0   Soekarno-Hatta  187123.0  180362.0  ...  180208.0  190598.0  2246437.0\n",
              "1       Ngurah Rai  278685.0  269367.0  ...  293858.0  341111.0  3731735.0\n",
              "2  Kualanamu Int'.   19029.0   17780.0  ...   22848.0   29243.0   234724.0\n",
              "3            Batam  119054.0   97445.0  ...  123505.0  171907.0  1454080.0\n",
              "4    Sam Ratulangi    1694.0    1079.0  ...     943.0    1492.0    17279.0\n",
              "\n",
              "[5 rows x 14 columns]"
            ]
          },
          "metadata": {
            "tags": []
          },
          "execution_count": 151
        }
      ]
    },
    {
      "cell_type": "markdown",
      "metadata": {
        "id": "cDOtK6LiyecE",
        "colab_type": "text"
      },
      "source": [
        "### Drop Column Month"
      ]
    },
    {
      "cell_type": "code",
      "metadata": {
        "id": "Y7U5kR4dhupj",
        "colab_type": "code",
        "colab": {
          "base_uri": "https://localhost:8080/",
          "height": 204
        },
        "outputId": "8e164796-095b-4574-8bf9-7a2e05bc0913"
      },
      "source": [
        "data= dataset.drop(columns=['januari', 'februari', 'maret', 'april', 'mei','juni','juli', 'agustus', 'september', 'oktober', 'november', 'desember'])\n",
        "data.head()"
      ],
      "execution_count": 152,
      "outputs": [
        {
          "output_type": "execute_result",
          "data": {
            "text/html": [
              "<div>\n",
              "<style scoped>\n",
              "    .dataframe tbody tr th:only-of-type {\n",
              "        vertical-align: middle;\n",
              "    }\n",
              "\n",
              "    .dataframe tbody tr th {\n",
              "        vertical-align: top;\n",
              "    }\n",
              "\n",
              "    .dataframe thead th {\n",
              "        text-align: right;\n",
              "    }\n",
              "</style>\n",
              "<table border=\"1\" class=\"dataframe\">\n",
              "  <thead>\n",
              "    <tr style=\"text-align: right;\">\n",
              "      <th></th>\n",
              "      <th>pintu_masuk</th>\n",
              "      <th>Sum</th>\n",
              "    </tr>\n",
              "  </thead>\n",
              "  <tbody>\n",
              "    <tr>\n",
              "      <th>0</th>\n",
              "      <td>Soekarno-Hatta</td>\n",
              "      <td>2246437.0</td>\n",
              "    </tr>\n",
              "    <tr>\n",
              "      <th>1</th>\n",
              "      <td>Ngurah Rai</td>\n",
              "      <td>3731735.0</td>\n",
              "    </tr>\n",
              "    <tr>\n",
              "      <th>2</th>\n",
              "      <td>Kualanamu Int'.</td>\n",
              "      <td>234724.0</td>\n",
              "    </tr>\n",
              "    <tr>\n",
              "      <th>3</th>\n",
              "      <td>Batam</td>\n",
              "      <td>1454080.0</td>\n",
              "    </tr>\n",
              "    <tr>\n",
              "      <th>4</th>\n",
              "      <td>Sam Ratulangi</td>\n",
              "      <td>17279.0</td>\n",
              "    </tr>\n",
              "  </tbody>\n",
              "</table>\n",
              "</div>"
            ],
            "text/plain": [
              "       pintu_masuk        Sum\n",
              "0   Soekarno-Hatta  2246437.0\n",
              "1       Ngurah Rai  3731735.0\n",
              "2  Kualanamu Int'.   234724.0\n",
              "3            Batam  1454080.0\n",
              "4    Sam Ratulangi    17279.0"
            ]
          },
          "metadata": {
            "tags": []
          },
          "execution_count": 152
        }
      ]
    },
    {
      "cell_type": "markdown",
      "metadata": {
        "id": "mt4SSfgdyoQj",
        "colab_type": "text"
      },
      "source": [
        "### Indexing Pintu Masuk\n",
        "\n",
        "Merubah Index Pintu masuk dari Object menjadi Numeric"
      ]
    },
    {
      "cell_type": "code",
      "metadata": {
        "id": "I5r8wTUgwMwr",
        "colab_type": "code",
        "colab": {
          "base_uri": "https://localhost:8080/",
          "height": 204
        },
        "outputId": "a7a30619-c84d-4bc4-b5bb-93b78b75207f"
      },
      "source": [
        "data['pintu_masuk']= data.index+1\n",
        "data.head()"
      ],
      "execution_count": 153,
      "outputs": [
        {
          "output_type": "execute_result",
          "data": {
            "text/html": [
              "<div>\n",
              "<style scoped>\n",
              "    .dataframe tbody tr th:only-of-type {\n",
              "        vertical-align: middle;\n",
              "    }\n",
              "\n",
              "    .dataframe tbody tr th {\n",
              "        vertical-align: top;\n",
              "    }\n",
              "\n",
              "    .dataframe thead th {\n",
              "        text-align: right;\n",
              "    }\n",
              "</style>\n",
              "<table border=\"1\" class=\"dataframe\">\n",
              "  <thead>\n",
              "    <tr style=\"text-align: right;\">\n",
              "      <th></th>\n",
              "      <th>pintu_masuk</th>\n",
              "      <th>Sum</th>\n",
              "    </tr>\n",
              "  </thead>\n",
              "  <tbody>\n",
              "    <tr>\n",
              "      <th>0</th>\n",
              "      <td>1</td>\n",
              "      <td>2246437.0</td>\n",
              "    </tr>\n",
              "    <tr>\n",
              "      <th>1</th>\n",
              "      <td>2</td>\n",
              "      <td>3731735.0</td>\n",
              "    </tr>\n",
              "    <tr>\n",
              "      <th>2</th>\n",
              "      <td>3</td>\n",
              "      <td>234724.0</td>\n",
              "    </tr>\n",
              "    <tr>\n",
              "      <th>3</th>\n",
              "      <td>4</td>\n",
              "      <td>1454080.0</td>\n",
              "    </tr>\n",
              "    <tr>\n",
              "      <th>4</th>\n",
              "      <td>5</td>\n",
              "      <td>17279.0</td>\n",
              "    </tr>\n",
              "  </tbody>\n",
              "</table>\n",
              "</div>"
            ],
            "text/plain": [
              "   pintu_masuk        Sum\n",
              "0            1  2246437.0\n",
              "1            2  3731735.0\n",
              "2            3   234724.0\n",
              "3            4  1454080.0\n",
              "4            5    17279.0"
            ]
          },
          "metadata": {
            "tags": []
          },
          "execution_count": 153
        }
      ]
    },
    {
      "cell_type": "markdown",
      "metadata": {
        "id": "lmManv_c2Hua",
        "colab_type": "text"
      },
      "source": [
        "Keterangan \n",
        "- 1\t= Soekarno-Hatta\n",
        "- 2\t= Ngurah Rai\n",
        "- 3\t= Kualanamu Int'.\t\n",
        "- 4\t= Batam\n",
        "- 5\t= Sam Ratulangi\n",
        "- 6\t= Juanda\n",
        "- 7\t= Entikong\n",
        "- 8\t= Adi Sumarmo\n",
        "- 9\t= Minangkabau\t\n",
        "- 10\t= Tanjung Priok\t\n",
        "- 11\t= Tanjung Pinang\t\n",
        "- 12\t= Bandara Int. Lombok\n",
        "- 13\t= Makasar\t\n",
        "- 14\t= Sepinggan\t\n",
        "- 15\t= Sultan Syarif Kasim II\t\n",
        "- 16\t= Adisucipto\n",
        "- 17\t= Husein Sastranegara\t\n",
        "- 18\t= Tanjung Uban\t\n",
        "- 19\t= Balai Karimun\t\n",
        "- 20\t= Pintu Lainnya\t"
      ]
    },
    {
      "cell_type": "markdown",
      "metadata": {
        "id": "yme82lliy1OB",
        "colab_type": "text"
      },
      "source": [
        "## K-Means Clustering"
      ]
    },
    {
      "cell_type": "code",
      "metadata": {
        "id": "xENXVMEciV_w",
        "colab_type": "code",
        "colab": {
          "base_uri": "https://localhost:8080/",
          "height": 357
        },
        "outputId": "0fac4a2a-753c-47cd-c9e5-d1f95c8dd57e"
      },
      "source": [
        "X = np.asarray(data)\n",
        "X"
      ],
      "execution_count": 154,
      "outputs": [
        {
          "output_type": "execute_result",
          "data": {
            "text/plain": [
              "array([[1.000000e+00, 2.246437e+06],\n",
              "       [2.000000e+00, 3.731735e+06],\n",
              "       [3.000000e+00, 2.347240e+05],\n",
              "       [4.000000e+00, 1.454080e+06],\n",
              "       [5.000000e+00, 1.727900e+04],\n",
              "       [6.000000e+00, 2.171930e+05],\n",
              "       [7.000000e+00, 2.246400e+04],\n",
              "       [8.000000e+00, 1.291100e+04],\n",
              "       [9.000000e+00, 5.019600e+04],\n",
              "       [1.000000e+01, 6.494100e+04],\n",
              "       [1.100000e+01, 9.767200e+04],\n",
              "       [1.200000e+01, 6.988100e+04],\n",
              "       [1.300000e+01, 1.571300e+04],\n",
              "       [1.400000e+01, 1.315600e+04],\n",
              "       [1.500000e+01, 2.738200e+04],\n",
              "       [1.600000e+01, 8.915600e+04],\n",
              "       [1.700000e+01, 1.803920e+05],\n",
              "       [1.800000e+01, 3.208610e+05],\n",
              "       [1.900000e+01, 1.007820e+05],\n",
              "       [2.000000e+01, 4.684260e+05]])"
            ]
          },
          "metadata": {
            "tags": []
          },
          "execution_count": 154
        }
      ]
    },
    {
      "cell_type": "markdown",
      "metadata": {
        "id": "q5PcKxc_y84H",
        "colab_type": "text"
      },
      "source": [
        "### Finding The Best K"
      ]
    },
    {
      "cell_type": "code",
      "metadata": {
        "id": "Z_rt3uqbijTK",
        "colab_type": "code",
        "colab": {
          "base_uri": "https://localhost:8080/",
          "height": 295
        },
        "outputId": "124845a8-bf6c-4472-bf71-b474be9b6b07"
      },
      "source": [
        "Sum_of_squared_distances = []\n",
        "K = range(1,15)\n",
        "for k in K:\n",
        "    km = KMeans(n_clusters=k)\n",
        "    km = km.fit(X)\n",
        "    Sum_of_squared_distances.append(km.inertia_)\n",
        "\n",
        "plt.plot(K, Sum_of_squared_distances, 'bx-')\n",
        "plt.xlabel('k')\n",
        "plt.ylabel('Sum_of_squared_distances')\n",
        "plt.title('Elbow Method For Optimal k')\n",
        "plt.show()"
      ],
      "execution_count": 155,
      "outputs": [
        {
          "output_type": "display_data",
          "data": {
            "image/png": "[encoded data removed]",
            "text/plain": [
              "<Figure size 432x288 with 1 Axes>"
            ]
          },
          "metadata": {
            "tags": []
          }
        }
      ]
    },
    {
      "cell_type": "markdown",
      "metadata": {
        "id": "UvwqV3QzzDBZ",
        "colab_type": "text"
      },
      "source": [
        "Berdasarkan scree plot, diketahui bahwa k paling baik yang bisa diambil yaitu k=3 karena memiliki penurunan yang tidak terlalu tajam"
      ]
    },
    {
      "cell_type": "markdown",
      "metadata": {
        "id": "T1LgzrgYzRRS",
        "colab_type": "text"
      },
      "source": [
        "### Kmean with 3 Cluster"
      ]
    },
    {
      "cell_type": "code",
      "metadata": {
        "id": "Nwv5sUYEkyk6",
        "colab_type": "code",
        "colab": {
          "base_uri": "https://localhost:8080/",
          "height": 68
        },
        "outputId": "884451e3-78fb-4642-f5e4-39a868f68d92"
      },
      "source": [
        "kmeans = KMeans(n_clusters=3)\n",
        "kmeans.fit(X)"
      ],
      "execution_count": 156,
      "outputs": [
        {
          "output_type": "execute_result",
          "data": {
            "text/plain": [
              "KMeans(algorithm='auto', copy_x=True, init='k-means++', max_iter=300,\n",
              "       n_clusters=3, n_init=10, n_jobs=None, precompute_distances='auto',\n",
              "       random_state=None, tol=0.0001, verbose=0)"
            ]
          },
          "metadata": {
            "tags": []
          },
          "execution_count": 156
        }
      ]
    },
    {
      "cell_type": "markdown",
      "metadata": {
        "id": "gXRuqXMWzW1k",
        "colab_type": "text"
      },
      "source": [
        "### Cluster Center"
      ]
    },
    {
      "cell_type": "code",
      "metadata": {
        "id": "IKuti8donA4B",
        "colab_type": "code",
        "colab": {
          "base_uri": "https://localhost:8080/",
          "height": 68
        },
        "outputId": "f695e1bc-7436-410e-d01c-76bdcb82124d"
      },
      "source": [
        "print(kmeans.cluster_centers_)"
      ],
      "execution_count": 157,
      "outputs": [
        {
          "output_type": "stream",
          "text": [
            "[[1.19411765e+01 1.17831118e+05]\n",
            " [2.00000000e+00 3.73173500e+06]\n",
            " [2.50000000e+00 1.85025850e+06]]\n"
          ],
          "name": "stdout"
        }
      ]
    },
    {
      "cell_type": "markdown",
      "metadata": {
        "id": "xXnsTuPPzbyG",
        "colab_type": "text"
      },
      "source": [
        "### Cluster Result"
      ]
    },
    {
      "cell_type": "code",
      "metadata": {
        "id": "s6LZMuq6nCzs",
        "colab_type": "code",
        "colab": {
          "base_uri": "https://localhost:8080/",
          "height": 34
        },
        "outputId": "0038a94b-653d-4f30-d8a9-5d1d59f0aa9c"
      },
      "source": [
        "print(kmeans.labels_)"
      ],
      "execution_count": 158,
      "outputs": [
        {
          "output_type": "stream",
          "text": [
            "[2 1 0 2 0 0 0 0 0 0 0 0 0 0 0 0 0 0 0 0]\n"
          ],
          "name": "stdout"
        }
      ]
    },
    {
      "cell_type": "code",
      "metadata": {
        "id": "WXf0Yq_on7Ck",
        "colab_type": "code",
        "colab": {
          "base_uri": "https://localhost:8080/",
          "height": 204
        },
        "outputId": "4b982498-e64c-421f-bd05-2de059bf42ae"
      },
      "source": [
        "kmeans.fit(X)\n",
        "labels = kmeans.labels_\n",
        "data[\"Cluster\"] = labels\n",
        "data.head()"
      ],
      "execution_count": 159,
      "outputs": [
        {
          "output_type": "execute_result",
          "data": {
            "text/html": [
              "<div>\n",
              "<style scoped>\n",
              "    .dataframe tbody tr th:only-of-type {\n",
              "        vertical-align: middle;\n",
              "    }\n",
              "\n",
              "    .dataframe tbody tr th {\n",
              "        vertical-align: top;\n",
              "    }\n",
              "\n",
              "    .dataframe thead th {\n",
              "        text-align: right;\n",
              "    }\n",
              "</style>\n",
              "<table border=\"1\" class=\"dataframe\">\n",
              "  <thead>\n",
              "    <tr style=\"text-align: right;\">\n",
              "      <th></th>\n",
              "      <th>pintu_masuk</th>\n",
              "      <th>Sum</th>\n",
              "      <th>Cluster</th>\n",
              "    </tr>\n",
              "  </thead>\n",
              "  <tbody>\n",
              "    <tr>\n",
              "      <th>0</th>\n",
              "      <td>1</td>\n",
              "      <td>2246437.0</td>\n",
              "      <td>1</td>\n",
              "    </tr>\n",
              "    <tr>\n",
              "      <th>1</th>\n",
              "      <td>2</td>\n",
              "      <td>3731735.0</td>\n",
              "      <td>2</td>\n",
              "    </tr>\n",
              "    <tr>\n",
              "      <th>2</th>\n",
              "      <td>3</td>\n",
              "      <td>234724.0</td>\n",
              "      <td>0</td>\n",
              "    </tr>\n",
              "    <tr>\n",
              "      <th>3</th>\n",
              "      <td>4</td>\n",
              "      <td>1454080.0</td>\n",
              "      <td>1</td>\n",
              "    </tr>\n",
              "    <tr>\n",
              "      <th>4</th>\n",
              "      <td>5</td>\n",
              "      <td>17279.0</td>\n",
              "      <td>0</td>\n",
              "    </tr>\n",
              "  </tbody>\n",
              "</table>\n",
              "</div>"
            ],
            "text/plain": [
              "   pintu_masuk        Sum  Cluster\n",
              "0            1  2246437.0        1\n",
              "1            2  3731735.0        2\n",
              "2            3   234724.0        0\n",
              "3            4  1454080.0        1\n",
              "4            5    17279.0        0"
            ]
          },
          "metadata": {
            "tags": []
          },
          "execution_count": 159
        }
      ]
    },
    {
      "cell_type": "markdown",
      "metadata": {
        "id": "EZkl-ccuzwm5",
        "colab_type": "text"
      },
      "source": [
        "### Centroid Visualization"
      ]
    },
    {
      "cell_type": "code",
      "metadata": {
        "id": "HB4qyxE5xXa6",
        "colab_type": "code",
        "colab": {
          "base_uri": "https://localhost:8080/",
          "height": 295
        },
        "outputId": "6880c820-a74e-4c8e-e8d5-e5141acc7d09"
      },
      "source": [
        "plt.scatter(X[:,0],X[:,1], c=kmeans.labels_, cmap='rainbow')\n",
        "plt.scatter(kmeans.cluster_centers_[:,0],kmeans.cluster_centers_[:,1],color='black')\n",
        "plt.xlabel(\"Pintu Masuk\")\n",
        "plt.ylabel(\"Jumlah Pengunjung\")\n",
        "plt.title(\"Jumlah Kunjungan Wisatawan Mancanegara Berdasarkan pintu masuk Bandara di Tahun 2014\")\n",
        "plt.show()"
      ],
      "execution_count": 160,
      "outputs": [
        {
          "output_type": "display_data",
          "data": {
            "image/png": "[encoded data removed]",
            "text/plain": [
              "<Figure size 432x288 with 1 Axes>"
            ]
          },
          "metadata": {
            "tags": []
          }
        }
      ]
    },
    {
      "cell_type": "markdown",
      "metadata": {
        "id": "dxDnpCne1RVl",
        "colab_type": "text"
      },
      "source": [
        "Berdasarkan visualisasi centroin, diketahui bahwa centroid dari ketiga cluster adalah sebagai berikut:\n",
        "- Cluster 1 berada di pintu masuk 12 yaitu Bandara International Lombok dan pada jumlah kedatagan yang tidak terlalu banyak\n",
        "- Cluster 2 berada di pintu masuk 2 yaitu Bandara Ngurah Rai dan pada jumlah sekitar dua juta pengunjung\n",
        "- Cluster 3 berada di pintu masuk 1 yaitu Bandara Soekarno Hatta dengan lebih dari 3,5 juta pengunjung"
      ]
    },
    {
      "cell_type": "markdown",
      "metadata": {
        "id": "4yb5iTIH1DG4",
        "colab_type": "text"
      },
      "source": [
        "### Clustering Result"
      ]
    },
    {
      "cell_type": "code",
      "metadata": {
        "id": "D7lPSLblxDg_",
        "colab_type": "code",
        "colab": {
          "base_uri": "https://localhost:8080/",
          "height": 295
        },
        "outputId": "85a7ea55-14d0-4327-e768-aaa12101a1db"
      },
      "source": [
        "plt.scatter(X[:,0],X[:,1], c=kmeans.labels_, cmap='rainbow')\n",
        "plt.xlabel(\"Pintu Masuk\")\n",
        "plt.ylabel(\"Jumlah Kunjungan\")\n",
        "plt.title(\"Jumlah Kunjungan Wisatawan Mancanegara Berdasarkan pintu masuk Bandara di Tahun 2014\")\n",
        "plt.show()"
      ],
      "execution_count": 161,
      "outputs": [
        {
          "output_type": "display_data",
          "data": {
            "image/png": "[encoded data removed]",
            "text/plain": [
              "<Figure size 432x288 with 1 Axes>"
            ]
          },
          "metadata": {
            "tags": []
          }
        }
      ]
    },
    {
      "cell_type": "code",
      "metadata": {
        "id": "4Y6c2O5wz_qa",
        "colab_type": "code",
        "colab": {
          "base_uri": "https://localhost:8080/",
          "height": 669
        },
        "outputId": "b7192217-d5c0-4887-a444-70143abe5803"
      },
      "source": [
        "data_clustered = pd.DataFrame(X)\n",
        "data_clustered['cluster'] = pd.DataFrame(kmeans.labels_)\n",
        "data_clustered = data_clustered.sort_values('cluster')\n",
        "#data_clustered = np.asarray(data_clustered)\n",
        "data_clustered"
      ],
      "execution_count": 162,
      "outputs": [
        {
          "output_type": "execute_result",
          "data": {
            "text/html": [
              "<div>\n",
              "<style scoped>\n",
              "    .dataframe tbody tr th:only-of-type {\n",
              "        vertical-align: middle;\n",
              "    }\n",
              "\n",
              "    .dataframe tbody tr th {\n",
              "        vertical-align: top;\n",
              "    }\n",
              "\n",
              "    .dataframe thead th {\n",
              "        text-align: right;\n",
              "    }\n",
              "</style>\n",
              "<table border=\"1\" class=\"dataframe\">\n",
              "  <thead>\n",
              "    <tr style=\"text-align: right;\">\n",
              "      <th></th>\n",
              "      <th>0</th>\n",
              "      <th>1</th>\n",
              "      <th>cluster</th>\n",
              "    </tr>\n",
              "  </thead>\n",
              "  <tbody>\n",
              "    <tr>\n",
              "      <th>9</th>\n",
              "      <td>10.0</td>\n",
              "      <td>64941.0</td>\n",
              "      <td>0</td>\n",
              "    </tr>\n",
              "    <tr>\n",
              "      <th>17</th>\n",
              "      <td>18.0</td>\n",
              "      <td>320861.0</td>\n",
              "      <td>0</td>\n",
              "    </tr>\n",
              "    <tr>\n",
              "      <th>16</th>\n",
              "      <td>17.0</td>\n",
              "      <td>180392.0</td>\n",
              "      <td>0</td>\n",
              "    </tr>\n",
              "    <tr>\n",
              "      <th>15</th>\n",
              "      <td>16.0</td>\n",
              "      <td>89156.0</td>\n",
              "      <td>0</td>\n",
              "    </tr>\n",
              "    <tr>\n",
              "      <th>14</th>\n",
              "      <td>15.0</td>\n",
              "      <td>27382.0</td>\n",
              "      <td>0</td>\n",
              "    </tr>\n",
              "    <tr>\n",
              "      <th>13</th>\n",
              "      <td>14.0</td>\n",
              "      <td>13156.0</td>\n",
              "      <td>0</td>\n",
              "    </tr>\n",
              "    <tr>\n",
              "      <th>12</th>\n",
              "      <td>13.0</td>\n",
              "      <td>15713.0</td>\n",
              "      <td>0</td>\n",
              "    </tr>\n",
              "    <tr>\n",
              "      <th>11</th>\n",
              "      <td>12.0</td>\n",
              "      <td>69881.0</td>\n",
              "      <td>0</td>\n",
              "    </tr>\n",
              "    <tr>\n",
              "      <th>10</th>\n",
              "      <td>11.0</td>\n",
              "      <td>97672.0</td>\n",
              "      <td>0</td>\n",
              "    </tr>\n",
              "    <tr>\n",
              "      <th>19</th>\n",
              "      <td>20.0</td>\n",
              "      <td>468426.0</td>\n",
              "      <td>0</td>\n",
              "    </tr>\n",
              "    <tr>\n",
              "      <th>8</th>\n",
              "      <td>9.0</td>\n",
              "      <td>50196.0</td>\n",
              "      <td>0</td>\n",
              "    </tr>\n",
              "    <tr>\n",
              "      <th>7</th>\n",
              "      <td>8.0</td>\n",
              "      <td>12911.0</td>\n",
              "      <td>0</td>\n",
              "    </tr>\n",
              "    <tr>\n",
              "      <th>6</th>\n",
              "      <td>7.0</td>\n",
              "      <td>22464.0</td>\n",
              "      <td>0</td>\n",
              "    </tr>\n",
              "    <tr>\n",
              "      <th>5</th>\n",
              "      <td>6.0</td>\n",
              "      <td>217193.0</td>\n",
              "      <td>0</td>\n",
              "    </tr>\n",
              "    <tr>\n",
              "      <th>4</th>\n",
              "      <td>5.0</td>\n",
              "      <td>17279.0</td>\n",
              "      <td>0</td>\n",
              "    </tr>\n",
              "    <tr>\n",
              "      <th>2</th>\n",
              "      <td>3.0</td>\n",
              "      <td>234724.0</td>\n",
              "      <td>0</td>\n",
              "    </tr>\n",
              "    <tr>\n",
              "      <th>18</th>\n",
              "      <td>19.0</td>\n",
              "      <td>100782.0</td>\n",
              "      <td>0</td>\n",
              "    </tr>\n",
              "    <tr>\n",
              "      <th>3</th>\n",
              "      <td>4.0</td>\n",
              "      <td>1454080.0</td>\n",
              "      <td>1</td>\n",
              "    </tr>\n",
              "    <tr>\n",
              "      <th>0</th>\n",
              "      <td>1.0</td>\n",
              "      <td>2246437.0</td>\n",
              "      <td>1</td>\n",
              "    </tr>\n",
              "    <tr>\n",
              "      <th>1</th>\n",
              "      <td>2.0</td>\n",
              "      <td>3731735.0</td>\n",
              "      <td>2</td>\n",
              "    </tr>\n",
              "  </tbody>\n",
              "</table>\n",
              "</div>"
            ],
            "text/plain": [
              "       0          1  cluster\n",
              "9   10.0    64941.0        0\n",
              "17  18.0   320861.0        0\n",
              "16  17.0   180392.0        0\n",
              "15  16.0    89156.0        0\n",
              "14  15.0    27382.0        0\n",
              "13  14.0    13156.0        0\n",
              "12  13.0    15713.0        0\n",
              "11  12.0    69881.0        0\n",
              "10  11.0    97672.0        0\n",
              "19  20.0   468426.0        0\n",
              "8    9.0    50196.0        0\n",
              "7    8.0    12911.0        0\n",
              "6    7.0    22464.0        0\n",
              "5    6.0   217193.0        0\n",
              "4    5.0    17279.0        0\n",
              "2    3.0   234724.0        0\n",
              "18  19.0   100782.0        0\n",
              "3    4.0  1454080.0        1\n",
              "0    1.0  2246437.0        1\n",
              "1    2.0  3731735.0        2"
            ]
          },
          "metadata": {
            "tags": []
          },
          "execution_count": 162
        }
      ]
    },
    {
      "cell_type": "markdown",
      "metadata": {
        "id": "xSxayBAUKH20",
        "colab_type": "text"
      },
      "source": [
        "  Berdasarkan hasil clustering, diketahui bahwa :\n",
        "  - Cluster 2 berisi satu pintu masuk yaitu Bandara Ngurah Rai yang berarti Banyak Wisatawan Asing yang berkunjung ke Bali pada tahun 2014 sebesar 3.731.735 pengunjung.\n",
        "  - Cluster 1 berisi dua pintu yaitu Bandara Soekarno Hatta dan Bandara Batam yang berarti cukup banyak wisatawan mancanegara yang berkunjung ke Ibukota Negara yaitu Jakarta (Untuk keperluan pemerintahan atau sebagai center dari Indonesia) sebesar 2.246.437 pengunjung dan Batam (Untuk keperluann Jual beli barang di Indonesia) dengan 1.454.080 pengunjung\n",
        "  - Cluster 3 berisi pintu selain Bandara Ngurah Rai, Bandara Soekarno Hatta dan Bandara Batam yang nilai pengunjungnya dibawah negara tersebut.\n",
        " "
      ]
    },
    {
      "cell_type": "markdown",
      "metadata": {
        "id": "M9JXZfDLN0Eg",
        "colab_type": "text"
      },
      "source": [
        "## Hierarchical Clustering"
      ]
    },
    {
      "cell_type": "markdown",
      "metadata": {
        "id": "JROlAwJtOhIu",
        "colab_type": "text"
      },
      "source": [
        "### Dendogram"
      ]
    },
    {
      "cell_type": "code",
      "metadata": {
        "id": "d62rgvlA02Ba",
        "colab_type": "code",
        "colab": {
          "base_uri": "https://localhost:8080/",
          "height": 272
        },
        "outputId": "178878bf-4823-4479-b1c9-4c3f951d6d73"
      },
      "source": [
        "import scipy.cluster.hierarchy as sch\n",
        "dendrogram = sch.dendrogram(sch.linkage(X, method='ward'))"
      ],
      "execution_count": 164,
      "outputs": [
        {
          "output_type": "display_data",
          "data": {
            "image/png": "[encoded data removed]",
            "text/plain": [
              "<Figure size 432x288 with 1 Axes>"
            ]
          },
          "metadata": {
            "tags": []
          }
        }
      ]
    },
    {
      "cell_type": "markdown",
      "metadata": {
        "id": "g6O5g7FVOl1T",
        "colab_type": "text"
      },
      "source": [
        "### Fitting"
      ]
    },
    {
      "cell_type": "code",
      "metadata": {
        "id": "UyxHDY5XOOa1",
        "colab_type": "code",
        "colab": {
          "base_uri": "https://localhost:8080/",
          "height": 34
        },
        "outputId": "1e4b90ea-9767-4daf-98ac-8b8ca306dda8"
      },
      "source": [
        "from sklearn.cluster import AgglomerativeClustering\n",
        "model = AgglomerativeClustering(n_clusters=3, affinity='euclidean', linkage='ward')\n",
        "model.fit(X)\n",
        "labels = model.labels_\n",
        "labels"
      ],
      "execution_count": 170,
      "outputs": [
        {
          "output_type": "execute_result",
          "data": {
            "text/plain": [
              "array([0, 2, 1, 0, 1, 1, 1, 1, 1, 1, 1, 1, 1, 1, 1, 1, 1, 1, 1, 1])"
            ]
          },
          "metadata": {
            "tags": []
          },
          "execution_count": 170
        }
      ]
    },
    {
      "cell_type": "code",
      "metadata": {
        "id": "H8NTy4--OYRK",
        "colab_type": "code",
        "colab": {
          "base_uri": "https://localhost:8080/",
          "height": 269
        },
        "outputId": "4f9d7a81-cf0a-4939-fba9-3ad70e020127"
      },
      "source": [
        "plt.scatter(X[labels==0, 0], X[labels==0, 1], s=50, marker='o', color='red')\n",
        "plt.scatter(X[labels==1, 0], X[labels==1, 1], s=50, marker='o', color='blue')\n",
        "plt.scatter(X[labels==2, 0], X[labels==2, 1], s=50, marker='o', color='green')\n",
        "plt.show()"
      ],
      "execution_count": 172,
      "outputs": [
        {
          "output_type": "display_data",
          "data": {
            "image/png": "[encoded data removed]",
            "text/plain": [
              "<Figure size 432x288 with 1 Axes>"
            ]
          },
          "metadata": {
            "tags": []
          }
        }
      ]
    },
    {
      "cell_type": "markdown",
      "metadata": {
        "id": "NTiLYUfxPlmI",
        "colab_type": "text"
      },
      "source": [
        "Analisis hasil cluster Sama dengan K-Means Clustering"
      ]
    },
    {
      "cell_type": "markdown",
      "metadata": {
        "id": "ThTsnFwzPqwu",
        "colab_type": "text"
      },
      "source": [
        "## DBSCAN"
      ]
    },
    {
      "cell_type": "code",
      "metadata": {
        "id": "G-_K6ULyOw3E",
        "colab_type": "code",
        "colab": {
          "base_uri": "https://localhost:8080/",
          "height": 51
        },
        "outputId": "4949ccd3-8927-4a10-9412-e4e58d9d3209"
      },
      "source": [
        "from sklearn.cluster import DBSCAN\n",
        "epsilon = 10000\n",
        "minimumSamples = 2\n",
        "dbscan = DBSCAN(eps=epsilon, min_samples=minimumSamples).fit(X)\n",
        "labels = dbscan.labels_\n",
        "labels"
      ],
      "execution_count": 198,
      "outputs": [
        {
          "output_type": "execute_result",
          "data": {
            "text/plain": [
              "array([-1, -1, -1, -1,  0, -1,  0,  0, -1,  1,  2,  1,  0,  0,  0,  2, -1,\n",
              "       -1,  2, -1])"
            ]
          },
          "metadata": {
            "tags": []
          },
          "execution_count": 198
        }
      ]
    },
    {
      "cell_type": "code",
      "metadata": {
        "id": "i7RIMOOGS28v",
        "colab_type": "code",
        "colab": {
          "base_uri": "https://localhost:8080/",
          "height": 295
        },
        "outputId": "ddf4d308-6b3b-440c-ba6c-89295bb86205"
      },
      "source": [
        "plt.scatter(X[:,0],X[:,1], c=dbscan.labels_, cmap='rainbow')\n",
        "plt.xlabel(\"Pintu Masuk\")\n",
        "plt.ylabel(\"Jumlah Kunjungan\")\n",
        "plt.title(\"Jumlah Kunjungan Wisatawan Mancanegara Berdasarkan pintu masuk Bandara di Tahun 2014\")\n",
        "plt.show()"
      ],
      "execution_count": 199,
      "outputs": [
        {
          "output_type": "display_data",
          "data": {
            "image/png": "[encoded data removed]",
            "text/plain": [
              "<Figure size 432x288 with 1 Axes>"
            ]
          },
          "metadata": {
            "tags": []
          }
        }
      ]
    },
    {
      "cell_type": "code",
      "metadata": {
        "id": "8kYBUlO4S9tN",
        "colab_type": "code",
        "colab": {
          "base_uri": "https://localhost:8080/",
          "height": 669
        },
        "outputId": "78a35d43-f969-4037-c996-aab57c64aaca"
      },
      "source": [
        "data_clustered = pd.DataFrame(X)\n",
        "data_clustered['cluster'] = pd.DataFrame(dbscan.labels_)\n",
        "data_clustered = data_clustered.sort_values('cluster')\n",
        "#data_clustered = np.asarray(data_clustered)\n",
        "data_clustered"
      ],
      "execution_count": 200,
      "outputs": [
        {
          "output_type": "execute_result",
          "data": {
            "text/html": [
              "<div>\n",
              "<style scoped>\n",
              "    .dataframe tbody tr th:only-of-type {\n",
              "        vertical-align: middle;\n",
              "    }\n",
              "\n",
              "    .dataframe tbody tr th {\n",
              "        vertical-align: top;\n",
              "    }\n",
              "\n",
              "    .dataframe thead th {\n",
              "        text-align: right;\n",
              "    }\n",
              "</style>\n",
              "<table border=\"1\" class=\"dataframe\">\n",
              "  <thead>\n",
              "    <tr style=\"text-align: right;\">\n",
              "      <th></th>\n",
              "      <th>0</th>\n",
              "      <th>1</th>\n",
              "      <th>cluster</th>\n",
              "    </tr>\n",
              "  </thead>\n",
              "  <tbody>\n",
              "    <tr>\n",
              "      <th>0</th>\n",
              "      <td>1.0</td>\n",
              "      <td>2246437.0</td>\n",
              "      <td>-1</td>\n",
              "    </tr>\n",
              "    <tr>\n",
              "      <th>17</th>\n",
              "      <td>18.0</td>\n",
              "      <td>320861.0</td>\n",
              "      <td>-1</td>\n",
              "    </tr>\n",
              "    <tr>\n",
              "      <th>16</th>\n",
              "      <td>17.0</td>\n",
              "      <td>180392.0</td>\n",
              "      <td>-1</td>\n",
              "    </tr>\n",
              "    <tr>\n",
              "      <th>8</th>\n",
              "      <td>9.0</td>\n",
              "      <td>50196.0</td>\n",
              "      <td>-1</td>\n",
              "    </tr>\n",
              "    <tr>\n",
              "      <th>5</th>\n",
              "      <td>6.0</td>\n",
              "      <td>217193.0</td>\n",
              "      <td>-1</td>\n",
              "    </tr>\n",
              "    <tr>\n",
              "      <th>19</th>\n",
              "      <td>20.0</td>\n",
              "      <td>468426.0</td>\n",
              "      <td>-1</td>\n",
              "    </tr>\n",
              "    <tr>\n",
              "      <th>3</th>\n",
              "      <td>4.0</td>\n",
              "      <td>1454080.0</td>\n",
              "      <td>-1</td>\n",
              "    </tr>\n",
              "    <tr>\n",
              "      <th>2</th>\n",
              "      <td>3.0</td>\n",
              "      <td>234724.0</td>\n",
              "      <td>-1</td>\n",
              "    </tr>\n",
              "    <tr>\n",
              "      <th>1</th>\n",
              "      <td>2.0</td>\n",
              "      <td>3731735.0</td>\n",
              "      <td>-1</td>\n",
              "    </tr>\n",
              "    <tr>\n",
              "      <th>6</th>\n",
              "      <td>7.0</td>\n",
              "      <td>22464.0</td>\n",
              "      <td>0</td>\n",
              "    </tr>\n",
              "    <tr>\n",
              "      <th>7</th>\n",
              "      <td>8.0</td>\n",
              "      <td>12911.0</td>\n",
              "      <td>0</td>\n",
              "    </tr>\n",
              "    <tr>\n",
              "      <th>12</th>\n",
              "      <td>13.0</td>\n",
              "      <td>15713.0</td>\n",
              "      <td>0</td>\n",
              "    </tr>\n",
              "    <tr>\n",
              "      <th>13</th>\n",
              "      <td>14.0</td>\n",
              "      <td>13156.0</td>\n",
              "      <td>0</td>\n",
              "    </tr>\n",
              "    <tr>\n",
              "      <th>14</th>\n",
              "      <td>15.0</td>\n",
              "      <td>27382.0</td>\n",
              "      <td>0</td>\n",
              "    </tr>\n",
              "    <tr>\n",
              "      <th>4</th>\n",
              "      <td>5.0</td>\n",
              "      <td>17279.0</td>\n",
              "      <td>0</td>\n",
              "    </tr>\n",
              "    <tr>\n",
              "      <th>11</th>\n",
              "      <td>12.0</td>\n",
              "      <td>69881.0</td>\n",
              "      <td>1</td>\n",
              "    </tr>\n",
              "    <tr>\n",
              "      <th>9</th>\n",
              "      <td>10.0</td>\n",
              "      <td>64941.0</td>\n",
              "      <td>1</td>\n",
              "    </tr>\n",
              "    <tr>\n",
              "      <th>18</th>\n",
              "      <td>19.0</td>\n",
              "      <td>100782.0</td>\n",
              "      <td>2</td>\n",
              "    </tr>\n",
              "    <tr>\n",
              "      <th>10</th>\n",
              "      <td>11.0</td>\n",
              "      <td>97672.0</td>\n",
              "      <td>2</td>\n",
              "    </tr>\n",
              "    <tr>\n",
              "      <th>15</th>\n",
              "      <td>16.0</td>\n",
              "      <td>89156.0</td>\n",
              "      <td>2</td>\n",
              "    </tr>\n",
              "  </tbody>\n",
              "</table>\n",
              "</div>"
            ],
            "text/plain": [
              "       0          1  cluster\n",
              "0    1.0  2246437.0       -1\n",
              "17  18.0   320861.0       -1\n",
              "16  17.0   180392.0       -1\n",
              "8    9.0    50196.0       -1\n",
              "5    6.0   217193.0       -1\n",
              "19  20.0   468426.0       -1\n",
              "3    4.0  1454080.0       -1\n",
              "2    3.0   234724.0       -1\n",
              "1    2.0  3731735.0       -1\n",
              "6    7.0    22464.0        0\n",
              "7    8.0    12911.0        0\n",
              "12  13.0    15713.0        0\n",
              "13  14.0    13156.0        0\n",
              "14  15.0    27382.0        0\n",
              "4    5.0    17279.0        0\n",
              "11  12.0    69881.0        1\n",
              "9   10.0    64941.0        1\n",
              "18  19.0   100782.0        2\n",
              "10  11.0    97672.0        2\n",
              "15  16.0    89156.0        2"
            ]
          },
          "metadata": {
            "tags": []
          },
          "execution_count": 200
        }
      ]
    },
    {
      "cell_type": "markdown",
      "metadata": {
        "id": "zm1OAz6TXygb",
        "colab_type": "text"
      },
      "source": [
        "- Cluster 2 = 10, 15, 18 (90-100rb) Tanjung Pinang, Adisucipo, Balai Karimun\n",
        "- Cluster 1 = 9, 11 (60-70rb) Adi Sumarno, Tanjung Priok\n",
        "- Cluster 0 = 4,6,7,12,13,14(12-22rb) Sam Ratulangi, Entikong, Adi Sumarno, Makasar, Sepinggan, Sultan Syarif Kasim II\n",
        "- Cluster -1 = 0, 1, 2, 3, 5, 8, 16, 17, 19 (200-400rb)\n",
        "Soekarno-Hatta, Ngurah Rai, Kualanamu Int, Batam, Juanda, Minangkabau, Husein Sastranegara, Tanjung Uban, Pintu Lainnya"
      ]
    }
  ]
}