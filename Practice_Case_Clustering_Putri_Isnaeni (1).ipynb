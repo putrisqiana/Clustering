{
  "nbformat": 4,
  "nbformat_minor": 0,
  "metadata": {
    "colab": {
      "name": "Practice Case Clustering Putri Isnaeni.ipynb",
      "version": "0.3.2",
      "provenance": []
    },
    "kernelspec": {
      "name": "python3",
      "display_name": "Python 3"
    }
  },
  "cells": [
    {
      "cell_type": "code",
      "metadata": {
        "id": "2b_A0AxRg4qj",
        "colab_type": "code",
        "colab": {}
      },
      "source": [
        "%matplotlib inline \n",
        "import matplotlib.pyplot as plt \n",
        "import numpy as np \n",
        "import pandas as pd \n",
        "from sklearn.cluster import KMeans"
      ],
      "execution_count": 0,
      "outputs": []
    },
    {
      "cell_type": "markdown",
      "metadata": {
        "id": "mBlwUwdxiCVM",
        "colab_type": "text"
      },
      "source": [
        "# Introduction"
      ]
    },
    {
      "cell_type": "code",
      "metadata": {
        "id": "D8bKaolviBaV",
        "colab_type": "code",
        "colab": {
          "base_uri": "https://localhost:8080/",
          "height": 204
        },
        "outputId": "462bbc5c-7761-4e0d-ea2c-a0c572579261"
      },
      "source": [
        "germann = pd.read_csv('german_credit_data.csv')\n",
        "germann.head()"
      ],
      "execution_count": 338,
      "outputs": [
        {
          "output_type": "execute_result",
          "data": {
            "text/html": [
              "<div>\n",
              "<style scoped>\n",
              "    .dataframe tbody tr th:only-of-type {\n",
              "        vertical-align: middle;\n",
              "    }\n",
              "\n",
              "    .dataframe tbody tr th {\n",
              "        vertical-align: top;\n",
              "    }\n",
              "\n",
              "    .dataframe thead th {\n",
              "        text-align: right;\n",
              "    }\n",
              "</style>\n",
              "<table border=\"1\" class=\"dataframe\">\n",
              "  <thead>\n",
              "    <tr style=\"text-align: right;\">\n",
              "      <th></th>\n",
              "      <th>Unnamed: 0</th>\n",
              "      <th>Age</th>\n",
              "      <th>Sex</th>\n",
              "      <th>Job</th>\n",
              "      <th>Housing</th>\n",
              "      <th>Saving accounts</th>\n",
              "      <th>Checking account</th>\n",
              "      <th>Credit amount</th>\n",
              "      <th>Duration</th>\n",
              "      <th>Purpose</th>\n",
              "    </tr>\n",
              "  </thead>\n",
              "  <tbody>\n",
              "    <tr>\n",
              "      <th>0</th>\n",
              "      <td>0</td>\n",
              "      <td>67</td>\n",
              "      <td>male</td>\n",
              "      <td>2</td>\n",
              "      <td>own</td>\n",
              "      <td>NaN</td>\n",
              "      <td>little</td>\n",
              "      <td>1169</td>\n",
              "      <td>6</td>\n",
              "      <td>radio/TV</td>\n",
              "    </tr>\n",
              "    <tr>\n",
              "      <th>1</th>\n",
              "      <td>1</td>\n",
              "      <td>22</td>\n",
              "      <td>female</td>\n",
              "      <td>2</td>\n",
              "      <td>own</td>\n",
              "      <td>little</td>\n",
              "      <td>moderate</td>\n",
              "      <td>5951</td>\n",
              "      <td>48</td>\n",
              "      <td>radio/TV</td>\n",
              "    </tr>\n",
              "    <tr>\n",
              "      <th>2</th>\n",
              "      <td>2</td>\n",
              "      <td>49</td>\n",
              "      <td>male</td>\n",
              "      <td>1</td>\n",
              "      <td>own</td>\n",
              "      <td>little</td>\n",
              "      <td>NaN</td>\n",
              "      <td>2096</td>\n",
              "      <td>12</td>\n",
              "      <td>education</td>\n",
              "    </tr>\n",
              "    <tr>\n",
              "      <th>3</th>\n",
              "      <td>3</td>\n",
              "      <td>45</td>\n",
              "      <td>male</td>\n",
              "      <td>2</td>\n",
              "      <td>free</td>\n",
              "      <td>little</td>\n",
              "      <td>little</td>\n",
              "      <td>7882</td>\n",
              "      <td>42</td>\n",
              "      <td>furniture/equipment</td>\n",
              "    </tr>\n",
              "    <tr>\n",
              "      <th>4</th>\n",
              "      <td>4</td>\n",
              "      <td>53</td>\n",
              "      <td>male</td>\n",
              "      <td>2</td>\n",
              "      <td>free</td>\n",
              "      <td>little</td>\n",
              "      <td>little</td>\n",
              "      <td>4870</td>\n",
              "      <td>24</td>\n",
              "      <td>car</td>\n",
              "    </tr>\n",
              "  </tbody>\n",
              "</table>\n",
              "</div>"
            ],
            "text/plain": [
              "   Unnamed: 0  Age     Sex  ...  Credit amount Duration              Purpose\n",
              "0           0   67    male  ...           1169        6             radio/TV\n",
              "1           1   22  female  ...           5951       48             radio/TV\n",
              "2           2   49    male  ...           2096       12            education\n",
              "3           3   45    male  ...           7882       42  furniture/equipment\n",
              "4           4   53    male  ...           4870       24                  car\n",
              "\n",
              "[5 rows x 10 columns]"
            ]
          },
          "metadata": {
            "tags": []
          },
          "execution_count": 338
        }
      ]
    },
    {
      "cell_type": "code",
      "metadata": {
        "id": "EdeKRtSnnx1q",
        "colab_type": "code",
        "colab": {
          "base_uri": "https://localhost:8080/",
          "height": 204
        },
        "outputId": "46a70026-0c2a-4303-d233-399014fbd256"
      },
      "source": [
        "german = german.rename(columns={'Unnamed: 0': 'ID'})\n",
        "german.head()"
      ],
      "execution_count": 339,
      "outputs": [
        {
          "output_type": "execute_result",
          "data": {
            "text/html": [
              "<div>\n",
              "<style scoped>\n",
              "    .dataframe tbody tr th:only-of-type {\n",
              "        vertical-align: middle;\n",
              "    }\n",
              "\n",
              "    .dataframe tbody tr th {\n",
              "        vertical-align: top;\n",
              "    }\n",
              "\n",
              "    .dataframe thead th {\n",
              "        text-align: right;\n",
              "    }\n",
              "</style>\n",
              "<table border=\"1\" class=\"dataframe\">\n",
              "  <thead>\n",
              "    <tr style=\"text-align: right;\">\n",
              "      <th></th>\n",
              "      <th>ID</th>\n",
              "      <th>Age</th>\n",
              "      <th>Sex</th>\n",
              "      <th>Job</th>\n",
              "      <th>Housing</th>\n",
              "      <th>Saving accounts</th>\n",
              "      <th>Checking account</th>\n",
              "      <th>Credit amount</th>\n",
              "      <th>Duration</th>\n",
              "      <th>Purpose</th>\n",
              "    </tr>\n",
              "  </thead>\n",
              "  <tbody>\n",
              "    <tr>\n",
              "      <th>0</th>\n",
              "      <td>0</td>\n",
              "      <td>67</td>\n",
              "      <td>male</td>\n",
              "      <td>2</td>\n",
              "      <td>own</td>\n",
              "      <td>NaN</td>\n",
              "      <td>little</td>\n",
              "      <td>1169</td>\n",
              "      <td>6</td>\n",
              "      <td>radio/TV</td>\n",
              "    </tr>\n",
              "    <tr>\n",
              "      <th>1</th>\n",
              "      <td>1</td>\n",
              "      <td>22</td>\n",
              "      <td>female</td>\n",
              "      <td>2</td>\n",
              "      <td>own</td>\n",
              "      <td>little</td>\n",
              "      <td>moderate</td>\n",
              "      <td>5951</td>\n",
              "      <td>48</td>\n",
              "      <td>radio/TV</td>\n",
              "    </tr>\n",
              "    <tr>\n",
              "      <th>2</th>\n",
              "      <td>2</td>\n",
              "      <td>49</td>\n",
              "      <td>male</td>\n",
              "      <td>1</td>\n",
              "      <td>own</td>\n",
              "      <td>little</td>\n",
              "      <td>NaN</td>\n",
              "      <td>2096</td>\n",
              "      <td>12</td>\n",
              "      <td>education</td>\n",
              "    </tr>\n",
              "    <tr>\n",
              "      <th>3</th>\n",
              "      <td>3</td>\n",
              "      <td>45</td>\n",
              "      <td>male</td>\n",
              "      <td>2</td>\n",
              "      <td>free</td>\n",
              "      <td>little</td>\n",
              "      <td>little</td>\n",
              "      <td>7882</td>\n",
              "      <td>42</td>\n",
              "      <td>furniture/equipment</td>\n",
              "    </tr>\n",
              "    <tr>\n",
              "      <th>4</th>\n",
              "      <td>4</td>\n",
              "      <td>53</td>\n",
              "      <td>male</td>\n",
              "      <td>2</td>\n",
              "      <td>free</td>\n",
              "      <td>little</td>\n",
              "      <td>little</td>\n",
              "      <td>4870</td>\n",
              "      <td>24</td>\n",
              "      <td>car</td>\n",
              "    </tr>\n",
              "  </tbody>\n",
              "</table>\n",
              "</div>"
            ],
            "text/plain": [
              "   ID  Age     Sex  ...  Credit amount Duration              Purpose\n",
              "0   0   67    male  ...           1169        6             radio/TV\n",
              "1   1   22  female  ...           5951       48             radio/TV\n",
              "2   2   49    male  ...           2096       12            education\n",
              "3   3   45    male  ...           7882       42  furniture/equipment\n",
              "4   4   53    male  ...           4870       24                  car\n",
              "\n",
              "[5 rows x 10 columns]"
            ]
          },
          "metadata": {
            "tags": []
          },
          "execution_count": 339
        }
      ]
    },
    {
      "cell_type": "code",
      "metadata": {
        "id": "INa96xkbh2x_",
        "colab_type": "code",
        "colab": {
          "base_uri": "https://localhost:8080/",
          "height": 34
        },
        "outputId": "6d98c6af-1833-4d07-863f-08a0c3d50bc4"
      },
      "source": [
        "german.shape"
      ],
      "execution_count": 340,
      "outputs": [
        {
          "output_type": "execute_result",
          "data": {
            "text/plain": [
              "(1000, 10)"
            ]
          },
          "metadata": {
            "tags": []
          },
          "execution_count": 340
        }
      ]
    },
    {
      "cell_type": "markdown",
      "metadata": {
        "id": "OZQ7mEprNEqs",
        "colab_type": "text"
      },
      "source": [
        "There was a Dataset about German Credit Company. In the dataset, there was 1000 record and 10 features about the costumer that include \n",
        "- ID, \n",
        "- Age, \n",
        "- Sex, \n",
        "- Job, \n",
        "- Housing Status, \n",
        "- Saving Acounts category, \n",
        "- Checking Accounts category, \n",
        "- Credit Amount, \n",
        "- Duration of Credit and \n",
        "- Purpose of Credit. <br>\n",
        "<br>\n",
        "\n",
        "The Company need a model that can make this Data help them to know if there was a new customer want to make a credit is a capable costumer or not. <br>\n",
        "<br>\n",
        "\n",
        "In this case, a German Credit Company Data Scientist will make a cluster to identify which is customer than capable to make a credit or not. It also can be used for making a customer segmentation that can impact to marketing that can also make customer being satisfied."
      ]
    },
    {
      "cell_type": "markdown",
      "metadata": {
        "id": "THsnEthfozig",
        "colab_type": "text"
      },
      "source": [
        "#### Missing Values"
      ]
    },
    {
      "cell_type": "code",
      "metadata": {
        "id": "uVwiKi6yiWm4",
        "colab_type": "code",
        "colab": {
          "base_uri": "https://localhost:8080/",
          "height": 204
        },
        "outputId": "8d253b67-2927-42b9-ab71-2091f25a3581"
      },
      "source": [
        "german.isnull().sum().sort_values(ascending=False)"
      ],
      "execution_count": 341,
      "outputs": [
        {
          "output_type": "execute_result",
          "data": {
            "text/plain": [
              "Checking account    394\n",
              "Saving accounts     183\n",
              "Purpose               0\n",
              "Duration              0\n",
              "Credit amount         0\n",
              "Housing               0\n",
              "Job                   0\n",
              "Sex                   0\n",
              "Age                   0\n",
              "ID                    0\n",
              "dtype: int64"
            ]
          },
          "metadata": {
            "tags": []
          },
          "execution_count": 341
        }
      ]
    },
    {
      "cell_type": "markdown",
      "metadata": {
        "id": "CUsU9wQ6OvZd",
        "colab_type": "text"
      },
      "source": [
        "There was a missing values on checking account and saving account feature, so we need to drop them to make a clean data."
      ]
    },
    {
      "cell_type": "code",
      "metadata": {
        "id": "B01SDRE_j_Sm",
        "colab_type": "code",
        "colab": {
          "base_uri": "https://localhost:8080/",
          "height": 204
        },
        "outputId": "fc9ec763-2460-4d05-de8d-da8b80085a74"
      },
      "source": [
        "datanew=german.drop(columns=['Checking account', 'Saving accounts'])\n",
        "datanew.head()"
      ],
      "execution_count": 342,
      "outputs": [
        {
          "output_type": "execute_result",
          "data": {
            "text/html": [
              "<div>\n",
              "<style scoped>\n",
              "    .dataframe tbody tr th:only-of-type {\n",
              "        vertical-align: middle;\n",
              "    }\n",
              "\n",
              "    .dataframe tbody tr th {\n",
              "        vertical-align: top;\n",
              "    }\n",
              "\n",
              "    .dataframe thead th {\n",
              "        text-align: right;\n",
              "    }\n",
              "</style>\n",
              "<table border=\"1\" class=\"dataframe\">\n",
              "  <thead>\n",
              "    <tr style=\"text-align: right;\">\n",
              "      <th></th>\n",
              "      <th>ID</th>\n",
              "      <th>Age</th>\n",
              "      <th>Sex</th>\n",
              "      <th>Job</th>\n",
              "      <th>Housing</th>\n",
              "      <th>Credit amount</th>\n",
              "      <th>Duration</th>\n",
              "      <th>Purpose</th>\n",
              "    </tr>\n",
              "  </thead>\n",
              "  <tbody>\n",
              "    <tr>\n",
              "      <th>0</th>\n",
              "      <td>0</td>\n",
              "      <td>67</td>\n",
              "      <td>male</td>\n",
              "      <td>2</td>\n",
              "      <td>own</td>\n",
              "      <td>1169</td>\n",
              "      <td>6</td>\n",
              "      <td>radio/TV</td>\n",
              "    </tr>\n",
              "    <tr>\n",
              "      <th>1</th>\n",
              "      <td>1</td>\n",
              "      <td>22</td>\n",
              "      <td>female</td>\n",
              "      <td>2</td>\n",
              "      <td>own</td>\n",
              "      <td>5951</td>\n",
              "      <td>48</td>\n",
              "      <td>radio/TV</td>\n",
              "    </tr>\n",
              "    <tr>\n",
              "      <th>2</th>\n",
              "      <td>2</td>\n",
              "      <td>49</td>\n",
              "      <td>male</td>\n",
              "      <td>1</td>\n",
              "      <td>own</td>\n",
              "      <td>2096</td>\n",
              "      <td>12</td>\n",
              "      <td>education</td>\n",
              "    </tr>\n",
              "    <tr>\n",
              "      <th>3</th>\n",
              "      <td>3</td>\n",
              "      <td>45</td>\n",
              "      <td>male</td>\n",
              "      <td>2</td>\n",
              "      <td>free</td>\n",
              "      <td>7882</td>\n",
              "      <td>42</td>\n",
              "      <td>furniture/equipment</td>\n",
              "    </tr>\n",
              "    <tr>\n",
              "      <th>4</th>\n",
              "      <td>4</td>\n",
              "      <td>53</td>\n",
              "      <td>male</td>\n",
              "      <td>2</td>\n",
              "      <td>free</td>\n",
              "      <td>4870</td>\n",
              "      <td>24</td>\n",
              "      <td>car</td>\n",
              "    </tr>\n",
              "  </tbody>\n",
              "</table>\n",
              "</div>"
            ],
            "text/plain": [
              "   ID  Age     Sex  Job Housing  Credit amount  Duration              Purpose\n",
              "0   0   67    male    2     own           1169         6             radio/TV\n",
              "1   1   22  female    2     own           5951        48             radio/TV\n",
              "2   2   49    male    1     own           2096        12            education\n",
              "3   3   45    male    2    free           7882        42  furniture/equipment\n",
              "4   4   53    male    2    free           4870        24                  car"
            ]
          },
          "metadata": {
            "tags": []
          },
          "execution_count": 342
        }
      ]
    },
    {
      "cell_type": "markdown",
      "metadata": {
        "id": "hkiCmR48o3Bn",
        "colab_type": "text"
      },
      "source": [
        "## Data Information"
      ]
    },
    {
      "cell_type": "code",
      "metadata": {
        "id": "l0Uzf4oek1RP",
        "colab_type": "code",
        "colab": {
          "base_uri": "https://localhost:8080/",
          "height": 238
        },
        "outputId": "3afc928a-2056-4e90-b4ac-c851ef9429fe"
      },
      "source": [
        "data.info()"
      ],
      "execution_count": 343,
      "outputs": [
        {
          "output_type": "stream",
          "text": [
            "<class 'pandas.core.frame.DataFrame'>\n",
            "RangeIndex: 1000 entries, 0 to 999\n",
            "Data columns (total 8 columns):\n",
            "ID               1000 non-null int64\n",
            "Age              1000 non-null int64\n",
            "Sex              1000 non-null object\n",
            "Job              1000 non-null int64\n",
            "Housing          1000 non-null object\n",
            "Credit amount    1000 non-null int64\n",
            "Duration         1000 non-null int64\n",
            "Purpose          1000 non-null object\n",
            "dtypes: int64(5), object(3)\n",
            "memory usage: 62.6+ KB\n"
          ],
          "name": "stdout"
        }
      ]
    },
    {
      "cell_type": "markdown",
      "metadata": {
        "id": "guPatft_O7to",
        "colab_type": "text"
      },
      "source": [
        "There was two data types in this Dataset. <br>\n",
        "We want to devide in to numerical dataset for integer type, and categorical dataset for object type.\n",
        "\n",
        "**Numerical** Data Type Consist Of:\n",
        "\n",
        "- ID\n",
        "- Age\n",
        "- Job\n",
        "- Credit Amount\n",
        "- Duration\n",
        "\n",
        "**Categorical** data type consist of :\n",
        "- Sex\n",
        "- Housing\n",
        "- Purpose\n",
        "\n",
        "\n"
      ]
    },
    {
      "cell_type": "markdown",
      "metadata": {
        "id": "EVSIHAZLqI_p",
        "colab_type": "text"
      },
      "source": [
        "### Numerical Data"
      ]
    },
    {
      "cell_type": "code",
      "metadata": {
        "id": "GuMw3p50nkMR",
        "colab_type": "code",
        "colab": {
          "base_uri": "https://localhost:8080/",
          "height": 204
        },
        "outputId": "ce471be2-f3eb-4d65-e968-e2be37fe4e5a"
      },
      "source": [
        "numerical=data[['ID', 'Age', 'Job', 'Credit amount', 'Duration']]\n",
        "numerical.head()"
      ],
      "execution_count": 344,
      "outputs": [
        {
          "output_type": "execute_result",
          "data": {
            "text/html": [
              "<div>\n",
              "<style scoped>\n",
              "    .dataframe tbody tr th:only-of-type {\n",
              "        vertical-align: middle;\n",
              "    }\n",
              "\n",
              "    .dataframe tbody tr th {\n",
              "        vertical-align: top;\n",
              "    }\n",
              "\n",
              "    .dataframe thead th {\n",
              "        text-align: right;\n",
              "    }\n",
              "</style>\n",
              "<table border=\"1\" class=\"dataframe\">\n",
              "  <thead>\n",
              "    <tr style=\"text-align: right;\">\n",
              "      <th></th>\n",
              "      <th>ID</th>\n",
              "      <th>Age</th>\n",
              "      <th>Job</th>\n",
              "      <th>Credit amount</th>\n",
              "      <th>Duration</th>\n",
              "    </tr>\n",
              "  </thead>\n",
              "  <tbody>\n",
              "    <tr>\n",
              "      <th>0</th>\n",
              "      <td>0</td>\n",
              "      <td>67</td>\n",
              "      <td>2</td>\n",
              "      <td>1169</td>\n",
              "      <td>6</td>\n",
              "    </tr>\n",
              "    <tr>\n",
              "      <th>1</th>\n",
              "      <td>1</td>\n",
              "      <td>22</td>\n",
              "      <td>2</td>\n",
              "      <td>5951</td>\n",
              "      <td>48</td>\n",
              "    </tr>\n",
              "    <tr>\n",
              "      <th>2</th>\n",
              "      <td>2</td>\n",
              "      <td>49</td>\n",
              "      <td>1</td>\n",
              "      <td>2096</td>\n",
              "      <td>12</td>\n",
              "    </tr>\n",
              "    <tr>\n",
              "      <th>3</th>\n",
              "      <td>3</td>\n",
              "      <td>45</td>\n",
              "      <td>2</td>\n",
              "      <td>7882</td>\n",
              "      <td>42</td>\n",
              "    </tr>\n",
              "    <tr>\n",
              "      <th>4</th>\n",
              "      <td>4</td>\n",
              "      <td>53</td>\n",
              "      <td>2</td>\n",
              "      <td>4870</td>\n",
              "      <td>24</td>\n",
              "    </tr>\n",
              "  </tbody>\n",
              "</table>\n",
              "</div>"
            ],
            "text/plain": [
              "   ID  Age  Job  Credit amount  Duration\n",
              "0   0   67    2           1169         6\n",
              "1   1   22    2           5951        48\n",
              "2   2   49    1           2096        12\n",
              "3   3   45    2           7882        42\n",
              "4   4   53    2           4870        24"
            ]
          },
          "metadata": {
            "tags": []
          },
          "execution_count": 344
        }
      ]
    },
    {
      "cell_type": "markdown",
      "metadata": {
        "id": "Y6HOeLuJqTHM",
        "colab_type": "text"
      },
      "source": [
        "### Categorical Data"
      ]
    },
    {
      "cell_type": "code",
      "metadata": {
        "id": "zm-dManXm4ID",
        "colab_type": "code",
        "colab": {
          "base_uri": "https://localhost:8080/",
          "height": 204
        },
        "outputId": "9c377b42-2e25-4f84-b2d2-28e464b367f3"
      },
      "source": [
        "categorical=data[['Sex', 'Housing', 'Purpose']]\n",
        "categorical.head()"
      ],
      "execution_count": 345,
      "outputs": [
        {
          "output_type": "execute_result",
          "data": {
            "text/html": [
              "<div>\n",
              "<style scoped>\n",
              "    .dataframe tbody tr th:only-of-type {\n",
              "        vertical-align: middle;\n",
              "    }\n",
              "\n",
              "    .dataframe tbody tr th {\n",
              "        vertical-align: top;\n",
              "    }\n",
              "\n",
              "    .dataframe thead th {\n",
              "        text-align: right;\n",
              "    }\n",
              "</style>\n",
              "<table border=\"1\" class=\"dataframe\">\n",
              "  <thead>\n",
              "    <tr style=\"text-align: right;\">\n",
              "      <th></th>\n",
              "      <th>Sex</th>\n",
              "      <th>Housing</th>\n",
              "      <th>Purpose</th>\n",
              "    </tr>\n",
              "  </thead>\n",
              "  <tbody>\n",
              "    <tr>\n",
              "      <th>0</th>\n",
              "      <td>male</td>\n",
              "      <td>own</td>\n",
              "      <td>radio/TV</td>\n",
              "    </tr>\n",
              "    <tr>\n",
              "      <th>1</th>\n",
              "      <td>female</td>\n",
              "      <td>own</td>\n",
              "      <td>radio/TV</td>\n",
              "    </tr>\n",
              "    <tr>\n",
              "      <th>2</th>\n",
              "      <td>male</td>\n",
              "      <td>own</td>\n",
              "      <td>education</td>\n",
              "    </tr>\n",
              "    <tr>\n",
              "      <th>3</th>\n",
              "      <td>male</td>\n",
              "      <td>free</td>\n",
              "      <td>furniture/equipment</td>\n",
              "    </tr>\n",
              "    <tr>\n",
              "      <th>4</th>\n",
              "      <td>male</td>\n",
              "      <td>free</td>\n",
              "      <td>car</td>\n",
              "    </tr>\n",
              "  </tbody>\n",
              "</table>\n",
              "</div>"
            ],
            "text/plain": [
              "      Sex Housing              Purpose\n",
              "0    male     own             radio/TV\n",
              "1  female     own             radio/TV\n",
              "2    male     own            education\n",
              "3    male    free  furniture/equipment\n",
              "4    male    free                  car"
            ]
          },
          "metadata": {
            "tags": []
          },
          "execution_count": 345
        }
      ]
    },
    {
      "cell_type": "markdown",
      "metadata": {
        "id": "EdmRW2x8PZ42",
        "colab_type": "text"
      },
      "source": [
        "In Clustering method, we need to make the categorical data to be numerical data. Because it just cant process the data with numerical types. So we nee to **encode** the categorical data to numerical types."
      ]
    },
    {
      "cell_type": "markdown",
      "metadata": {
        "id": "c0OqjdRSt7rz",
        "colab_type": "text"
      },
      "source": [
        "#### Encoding Data"
      ]
    },
    {
      "cell_type": "code",
      "metadata": {
        "id": "X9-3kpWcmRxj",
        "colab_type": "code",
        "colab": {}
      },
      "source": [
        "# import labelencoder\n",
        "from sklearn.preprocessing import LabelEncoder\n",
        "# instantiate labelencoder object\n",
        "le = LabelEncoder()"
      ],
      "execution_count": 0,
      "outputs": []
    },
    {
      "cell_type": "code",
      "metadata": {
        "id": "tR0Ood-Fmp9n",
        "colab_type": "code",
        "colab": {
          "base_uri": "https://localhost:8080/",
          "height": 204
        },
        "outputId": "f1205864-a90d-4a56-ad2c-50bc8bc96bdf"
      },
      "source": [
        "# apply le on categorical feature columns\n",
        "categoric = categorical.apply(lambda col: le.fit_transform(col))\n",
        "categoric.head()"
      ],
      "execution_count": 347,
      "outputs": [
        {
          "output_type": "execute_result",
          "data": {
            "text/html": [
              "<div>\n",
              "<style scoped>\n",
              "    .dataframe tbody tr th:only-of-type {\n",
              "        vertical-align: middle;\n",
              "    }\n",
              "\n",
              "    .dataframe tbody tr th {\n",
              "        vertical-align: top;\n",
              "    }\n",
              "\n",
              "    .dataframe thead th {\n",
              "        text-align: right;\n",
              "    }\n",
              "</style>\n",
              "<table border=\"1\" class=\"dataframe\">\n",
              "  <thead>\n",
              "    <tr style=\"text-align: right;\">\n",
              "      <th></th>\n",
              "      <th>Sex</th>\n",
              "      <th>Housing</th>\n",
              "      <th>Purpose</th>\n",
              "    </tr>\n",
              "  </thead>\n",
              "  <tbody>\n",
              "    <tr>\n",
              "      <th>0</th>\n",
              "      <td>1</td>\n",
              "      <td>1</td>\n",
              "      <td>5</td>\n",
              "    </tr>\n",
              "    <tr>\n",
              "      <th>1</th>\n",
              "      <td>0</td>\n",
              "      <td>1</td>\n",
              "      <td>5</td>\n",
              "    </tr>\n",
              "    <tr>\n",
              "      <th>2</th>\n",
              "      <td>1</td>\n",
              "      <td>1</td>\n",
              "      <td>3</td>\n",
              "    </tr>\n",
              "    <tr>\n",
              "      <th>3</th>\n",
              "      <td>1</td>\n",
              "      <td>0</td>\n",
              "      <td>4</td>\n",
              "    </tr>\n",
              "    <tr>\n",
              "      <th>4</th>\n",
              "      <td>1</td>\n",
              "      <td>0</td>\n",
              "      <td>1</td>\n",
              "    </tr>\n",
              "  </tbody>\n",
              "</table>\n",
              "</div>"
            ],
            "text/plain": [
              "   Sex  Housing  Purpose\n",
              "0    1        1        5\n",
              "1    0        1        5\n",
              "2    1        1        3\n",
              "3    1        0        4\n",
              "4    1        0        1"
            ]
          },
          "metadata": {
            "tags": []
          },
          "execution_count": 347
        }
      ]
    },
    {
      "cell_type": "markdown",
      "metadata": {
        "id": "LcC4s2ert_jC",
        "colab_type": "text"
      },
      "source": [
        "#### Sex"
      ]
    },
    {
      "cell_type": "code",
      "metadata": {
        "id": "LbIQ88HJsc5k",
        "colab_type": "code",
        "colab": {
          "base_uri": "https://localhost:8080/",
          "height": 68
        },
        "outputId": "6fa790c1-be04-4c0b-fdb4-378708660e2a"
      },
      "source": [
        "Sex= categorical.Sex.value_counts()\n",
        "Sex"
      ],
      "execution_count": 348,
      "outputs": [
        {
          "output_type": "execute_result",
          "data": {
            "text/plain": [
              "male      690\n",
              "female    310\n",
              "Name: Sex, dtype: int64"
            ]
          },
          "metadata": {
            "tags": []
          },
          "execution_count": 348
        }
      ]
    },
    {
      "cell_type": "code",
      "metadata": {
        "id": "dVGUC3wytWO9",
        "colab_type": "code",
        "colab": {
          "base_uri": "https://localhost:8080/",
          "height": 68
        },
        "outputId": "8755a6b4-db2b-4d34-8ce2-17186c0b1c8b"
      },
      "source": [
        "Sex= categoric.Sex.value_counts()\n",
        "Sex"
      ],
      "execution_count": 349,
      "outputs": [
        {
          "output_type": "execute_result",
          "data": {
            "text/plain": [
              "1    690\n",
              "0    310\n",
              "Name: Sex, dtype: int64"
            ]
          },
          "metadata": {
            "tags": []
          },
          "execution_count": 349
        }
      ]
    },
    {
      "cell_type": "markdown",
      "metadata": {
        "id": "tciCcO1pPvho",
        "colab_type": "text"
      },
      "source": [
        "**Notes**\n",
        "- 1 = **male** with **690** amount of costumer\n",
        "- 0 = **female** with **310** amount of costumer"
      ]
    },
    {
      "cell_type": "markdown",
      "metadata": {
        "id": "fzLDGwDzuByX",
        "colab_type": "text"
      },
      "source": [
        "#### Housing"
      ]
    },
    {
      "cell_type": "code",
      "metadata": {
        "id": "L9NR9vPMtdcE",
        "colab_type": "code",
        "colab": {
          "base_uri": "https://localhost:8080/",
          "height": 85
        },
        "outputId": "fab6f69d-95d9-459a-e15e-51112da3adaa"
      },
      "source": [
        "Housing= categoric.Housing.value_counts()\n",
        "Housing"
      ],
      "execution_count": 350,
      "outputs": [
        {
          "output_type": "execute_result",
          "data": {
            "text/plain": [
              "1    713\n",
              "2    179\n",
              "0    108\n",
              "Name: Housing, dtype: int64"
            ]
          },
          "metadata": {
            "tags": []
          },
          "execution_count": 350
        }
      ]
    },
    {
      "cell_type": "code",
      "metadata": {
        "id": "nyNIF2NBtDxJ",
        "colab_type": "code",
        "colab": {
          "base_uri": "https://localhost:8080/",
          "height": 85
        },
        "outputId": "7b7df442-2a0a-4826-be67-fb9e3963d862"
      },
      "source": [
        "Housing= categorical.Housing.value_counts()\n",
        "Housing"
      ],
      "execution_count": 351,
      "outputs": [
        {
          "output_type": "execute_result",
          "data": {
            "text/plain": [
              "own     713\n",
              "rent    179\n",
              "free    108\n",
              "Name: Housing, dtype: int64"
            ]
          },
          "metadata": {
            "tags": []
          },
          "execution_count": 351
        }
      ]
    },
    {
      "cell_type": "markdown",
      "metadata": {
        "id": "RlQjDdQqQHKf",
        "colab_type": "text"
      },
      "source": [
        "**Notes**\n",
        "\n",
        "- 1 = **Own** Housing with **713** amount of Costumer\n",
        "- 2 = **Rent** Housing with **179** amount of Costumer\n",
        "- 3 = **Free** Housing with **108** amount of Costumer"
      ]
    },
    {
      "cell_type": "markdown",
      "metadata": {
        "id": "fA676sCVuHIq",
        "colab_type": "text"
      },
      "source": [
        "#### Purpose"
      ]
    },
    {
      "cell_type": "code",
      "metadata": {
        "id": "AdNQEVGBtLCQ",
        "colab_type": "code",
        "colab": {
          "base_uri": "https://localhost:8080/",
          "height": 170
        },
        "outputId": "5b02dcf3-8374-4562-d956-3b8f86d46f09"
      },
      "source": [
        "Purpose= categorical.Purpose.value_counts()\n",
        "Purpose"
      ],
      "execution_count": 352,
      "outputs": [
        {
          "output_type": "execute_result",
          "data": {
            "text/plain": [
              "car                    337\n",
              "radio/TV               280\n",
              "furniture/equipment    181\n",
              "business                97\n",
              "education               59\n",
              "repairs                 22\n",
              "vacation/others         12\n",
              "domestic appliances     12\n",
              "Name: Purpose, dtype: int64"
            ]
          },
          "metadata": {
            "tags": []
          },
          "execution_count": 352
        }
      ]
    },
    {
      "cell_type": "code",
      "metadata": {
        "id": "S73tdGJhtkSu",
        "colab_type": "code",
        "colab": {
          "base_uri": "https://localhost:8080/",
          "height": 170
        },
        "outputId": "8768ac66-f03f-4496-e3d7-566d8da36179"
      },
      "source": [
        "Purpose= categoric.Purpose.value_counts()\n",
        "Purpose"
      ],
      "execution_count": 353,
      "outputs": [
        {
          "output_type": "execute_result",
          "data": {
            "text/plain": [
              "1    337\n",
              "5    280\n",
              "4    181\n",
              "0     97\n",
              "3     59\n",
              "6     22\n",
              "7     12\n",
              "2     12\n",
              "Name: Purpose, dtype: int64"
            ]
          },
          "metadata": {
            "tags": []
          },
          "execution_count": 353
        }
      ]
    },
    {
      "cell_type": "markdown",
      "metadata": {
        "id": "mTTc0JAtQfpW",
        "colab_type": "text"
      },
      "source": [
        "**Notes**\n",
        "\n",
        "- 0 = **Business** purpose with **97** amount of costumer\n",
        "- 1 = **Car** purpose with **337** amount of costumer\n",
        "- 2 = **Domestic appliances** purpose with **12** amount of costumer\n",
        "- 3 = **Education** purpose with **59** amount of costumer\n",
        "- 4 = **Furniture/equipment** purpose with **181** amount of costumer\n",
        "- 5 = **Radio/TV** purpose with **280** amount of costumer\n",
        "- 6 = **Repairs** purpose with **22** amount of costumer\n",
        "- 7 = **Vacation/others** purpose with **12** amount of costumer"
      ]
    },
    {
      "cell_type": "markdown",
      "metadata": {
        "id": "M5kmse1qrPmK",
        "colab_type": "text"
      },
      "source": [
        "### Merging Data\n",
        "\n",
        "After divide the data to numerical and categoricald, we need to merge it to be one dataset with all numerical dataset. So we can process them for Clustering"
      ]
    },
    {
      "cell_type": "code",
      "metadata": {
        "id": "neoUbwhNmuYL",
        "colab_type": "code",
        "colab": {
          "base_uri": "https://localhost:8080/",
          "height": 204
        },
        "outputId": "0b8de3b1-0a44-4efe-a9c6-4fc3811bb902"
      },
      "source": [
        "dataset =  pd.concat(objs=[numerical, categoric], axis=1).reset_index(drop=True)\n",
        "dataset.head()"
      ],
      "execution_count": 354,
      "outputs": [
        {
          "output_type": "execute_result",
          "data": {
            "text/html": [
              "<div>\n",
              "<style scoped>\n",
              "    .dataframe tbody tr th:only-of-type {\n",
              "        vertical-align: middle;\n",
              "    }\n",
              "\n",
              "    .dataframe tbody tr th {\n",
              "        vertical-align: top;\n",
              "    }\n",
              "\n",
              "    .dataframe thead th {\n",
              "        text-align: right;\n",
              "    }\n",
              "</style>\n",
              "<table border=\"1\" class=\"dataframe\">\n",
              "  <thead>\n",
              "    <tr style=\"text-align: right;\">\n",
              "      <th></th>\n",
              "      <th>ID</th>\n",
              "      <th>Age</th>\n",
              "      <th>Job</th>\n",
              "      <th>Credit amount</th>\n",
              "      <th>Duration</th>\n",
              "      <th>Sex</th>\n",
              "      <th>Housing</th>\n",
              "      <th>Purpose</th>\n",
              "    </tr>\n",
              "  </thead>\n",
              "  <tbody>\n",
              "    <tr>\n",
              "      <th>0</th>\n",
              "      <td>0</td>\n",
              "      <td>67</td>\n",
              "      <td>2</td>\n",
              "      <td>1169</td>\n",
              "      <td>6</td>\n",
              "      <td>1</td>\n",
              "      <td>1</td>\n",
              "      <td>5</td>\n",
              "    </tr>\n",
              "    <tr>\n",
              "      <th>1</th>\n",
              "      <td>1</td>\n",
              "      <td>22</td>\n",
              "      <td>2</td>\n",
              "      <td>5951</td>\n",
              "      <td>48</td>\n",
              "      <td>0</td>\n",
              "      <td>1</td>\n",
              "      <td>5</td>\n",
              "    </tr>\n",
              "    <tr>\n",
              "      <th>2</th>\n",
              "      <td>2</td>\n",
              "      <td>49</td>\n",
              "      <td>1</td>\n",
              "      <td>2096</td>\n",
              "      <td>12</td>\n",
              "      <td>1</td>\n",
              "      <td>1</td>\n",
              "      <td>3</td>\n",
              "    </tr>\n",
              "    <tr>\n",
              "      <th>3</th>\n",
              "      <td>3</td>\n",
              "      <td>45</td>\n",
              "      <td>2</td>\n",
              "      <td>7882</td>\n",
              "      <td>42</td>\n",
              "      <td>1</td>\n",
              "      <td>0</td>\n",
              "      <td>4</td>\n",
              "    </tr>\n",
              "    <tr>\n",
              "      <th>4</th>\n",
              "      <td>4</td>\n",
              "      <td>53</td>\n",
              "      <td>2</td>\n",
              "      <td>4870</td>\n",
              "      <td>24</td>\n",
              "      <td>1</td>\n",
              "      <td>0</td>\n",
              "      <td>1</td>\n",
              "    </tr>\n",
              "  </tbody>\n",
              "</table>\n",
              "</div>"
            ],
            "text/plain": [
              "   ID  Age  Job  Credit amount  Duration  Sex  Housing  Purpose\n",
              "0   0   67    2           1169         6    1        1        5\n",
              "1   1   22    2           5951        48    0        1        5\n",
              "2   2   49    1           2096        12    1        1        3\n",
              "3   3   45    2           7882        42    1        0        4\n",
              "4   4   53    2           4870        24    1        0        1"
            ]
          },
          "metadata": {
            "tags": []
          },
          "execution_count": 354
        }
      ]
    },
    {
      "cell_type": "markdown",
      "metadata": {
        "id": "g9nXCRjpr8KM",
        "colab_type": "text"
      },
      "source": [
        "## Normalizing Data\n",
        "\n",
        "After making a numerical for all record, we need to make them as array, so they can be process in Clustering Methods."
      ]
    },
    {
      "cell_type": "code",
      "metadata": {
        "id": "PDxUyGcKr09f",
        "colab_type": "code",
        "colab": {
          "base_uri": "https://localhost:8080/",
          "height": 136
        },
        "outputId": "8ad5041c-b4e7-43a0-b9b9-c2bb023466ce"
      },
      "source": [
        "X = np.asarray(dataset)\n",
        "X"
      ],
      "execution_count": 355,
      "outputs": [
        {
          "output_type": "execute_result",
          "data": {
            "text/plain": [
              "array([[  0,  67,   2, ...,   1,   1,   5],\n",
              "       [  1,  22,   2, ...,   0,   1,   5],\n",
              "       [  2,  49,   1, ...,   1,   1,   3],\n",
              "       ...,\n",
              "       [997,  38,   2, ...,   1,   1,   5],\n",
              "       [998,  23,   2, ...,   1,   0,   5],\n",
              "       [999,  27,   2, ...,   1,   1,   1]])"
            ]
          },
          "metadata": {
            "tags": []
          },
          "execution_count": 355
        }
      ]
    },
    {
      "cell_type": "markdown",
      "metadata": {
        "id": "fpA9vNP8ue42",
        "colab_type": "text"
      },
      "source": [
        " # K-Means Algorithm\n",
        " \n",
        " The first algorithm that we want to used for this Clustering Method using German Credit Company Dataset is K-Means Algorithm. "
      ]
    },
    {
      "cell_type": "markdown",
      "metadata": {
        "id": "jLHXnE-aumpU",
        "colab_type": "text"
      },
      "source": [
        "## Finding K\n",
        "\n",
        "The first step in K-Means is finding the best K, so we can get the best result of Clustering. There was two way that we used in this model. This metjod is used to know the best K for K-Means Clustering,It was Scree Plot and Silhouette Plot."
      ]
    },
    {
      "cell_type": "markdown",
      "metadata": {
        "id": "n3ZN81gKv5cv",
        "colab_type": "text"
      },
      "source": [
        "### Scree Plot"
      ]
    },
    {
      "cell_type": "code",
      "metadata": {
        "id": "caz5rEcQuaVd",
        "colab_type": "code",
        "colab": {
          "base_uri": "https://localhost:8080/",
          "height": 295
        },
        "outputId": "45545b56-5596-4bc1-e25b-f549f45d480d"
      },
      "source": [
        "Sum_of_squared_distances = []\n",
        "K = range(1,15)\n",
        "for k in K:\n",
        "    km = KMeans(n_clusters=k)\n",
        "    km = km.fit(X)\n",
        "    Sum_of_squared_distances.append(km.inertia_)\n",
        "\n",
        "plt.plot(K, Sum_of_squared_distances, 'bx-')\n",
        "plt.xlabel('k')\n",
        "plt.ylabel('Sum_of_squared_distances')\n",
        "plt.title('Elbow Method For Optimal k')\n",
        "plt.show()"
      ],
      "execution_count": 356,
      "outputs": [
        {
          "output_type": "display_data",
          "data": {
            "image/png": "[encoded data removed]",
            "text/plain": [
              "<Figure size 432x288 with 1 Axes>"
            ]
          },
          "metadata": {
            "tags": []
          }
        }
      ]
    },
    {
      "cell_type": "markdown",
      "metadata": {
        "id": "qPgTJMAQTrkT",
        "colab_type": "text"
      },
      "source": [
        "Based on Scree Plot, we can see that the line is start not extremely decrease is on 3 k. So we can conclude that the best k for this dataset is k=3."
      ]
    },
    {
      "cell_type": "markdown",
      "metadata": {
        "id": "7MrV829dv8il",
        "colab_type": "text"
      },
      "source": [
        "### Silhouette Plot"
      ]
    },
    {
      "cell_type": "code",
      "metadata": {
        "id": "AY3KSvU7uutz",
        "colab_type": "code",
        "colab": {
          "base_uri": "https://localhost:8080/",
          "height": 85
        },
        "outputId": "25f1e565-0d14-41ea-8421-00034c0fe5bd"
      },
      "source": [
        "range_n_clusters = [3, 4, 5, 6]\n",
        "for n_cluster in range_n_clusters:\n",
        "    kmeans = KMeans(n_clusters = n_cluster, max_iter =1000)\n",
        "    kmeans.fit(X)\n",
        "    labels = kmeans.predict(X)\n",
        "    from sklearn.metrics import silhouette_score\n",
        "    silhouette_avg = silhouette_score(X, labels)\n",
        "    print(silhouette_avg)"
      ],
      "execution_count": 357,
      "outputs": [
        {
          "output_type": "stream",
          "text": [
            "0.6243124836508543\n",
            "0.5627389246541363\n",
            "0.5203030713143146\n",
            "0.4880601086430446\n"
          ],
          "name": "stdout"
        }
      ]
    },
    {
      "cell_type": "markdown",
      "metadata": {
        "id": "IfQ4Ls6zUh9b",
        "colab_type": "text"
      },
      "source": [
        "Based on Silhouette Plot, we can see that the highest values of silhouette is on n_cluster = 3 with 0.6243124836508543 amount. So we can conclude that 3 is the best k for this k-means clustering"
      ]
    },
    {
      "cell_type": "code",
      "metadata": {
        "id": "BrYQChBIvkMd",
        "colab_type": "code",
        "colab": {
          "base_uri": "https://localhost:8080/",
          "height": 238
        },
        "outputId": "e603e467-b658-4048-a095-490bb69a66f1"
      },
      "source": [
        "from sklearn.preprocessing import StandardScaler\n",
        "X = dataset.values[:,1:]\n",
        "X = np.nan_to_num(X)\n",
        "Clus_dataSet = StandardScaler().fit_transform(X)\n",
        "Clus_dataSet"
      ],
      "execution_count": 358,
      "outputs": [
        {
          "output_type": "execute_result",
          "data": {
            "text/plain": [
              "array([[ 2.76645648,  0.14694918, -0.74513141, ...,  0.67028006,\n",
              "        -0.13371046,  1.07326286],\n",
              "       [-1.19140394,  0.14694918,  0.94981679, ..., -1.49191369,\n",
              "        -0.13371046,  1.07326286],\n",
              "       [ 1.18331231, -1.38377145, -0.41656241, ...,  0.67028006,\n",
              "        -0.13371046,  0.06170503],\n",
              "       ...,\n",
              "       [ 0.21583532,  0.14694918, -0.87450324, ...,  0.67028006,\n",
              "        -0.13371046,  1.07326286],\n",
              "       [-1.10345149,  0.14694918, -0.50552769, ...,  0.67028006,\n",
              "        -2.01695631,  1.07326286],\n",
              "       [-0.75164167,  0.14694918,  0.46245715, ...,  0.67028006,\n",
              "        -0.13371046, -0.9498528 ]])"
            ]
          },
          "metadata": {
            "tags": []
          },
          "execution_count": 358
        }
      ]
    },
    {
      "cell_type": "markdown",
      "metadata": {
        "id": "4pKrtzurwJLf",
        "colab_type": "text"
      },
      "source": [
        "## Clustering Model\n",
        "\n",
        "Based on Scree Plot and Silhouette Plot, we will choose 3 for the number of cluster"
      ]
    },
    {
      "cell_type": "code",
      "metadata": {
        "id": "d8M2mL5ywD46",
        "colab_type": "code",
        "colab": {
          "base_uri": "https://localhost:8080/",
          "height": 493
        },
        "outputId": "925153c3-8f24-4c43-9944-978c39650da1"
      },
      "source": [
        "clusterNum = 3\n",
        "k_means = KMeans(init = \"k-means++\", n_clusters = clusterNum, n_init = 12)\n",
        "k_means.fit(X)\n",
        "labels = k_means.labels_\n",
        "print(labels)"
      ],
      "execution_count": 359,
      "outputs": [
        {
          "output_type": "stream",
          "text": [
            "[1 0 1 0 0 2 1 0 1 0 1 0 1 1 1 1 1 0 2 1 1 1 1 1 1 1 1 1 1 0 1 0 0 1 1 0 0\n",
            " 1 1 1 1 1 0 0 0 1 1 1 0 1 1 0 1 1 1 1 0 2 1 0 1 1 1 2 1 0 1 1 1 1 0 1 1 0\n",
            " 1 1 0 0 2 0 0 1 1 1 1 1 1 2 1 1 1 1 1 1 1 2 1 1 1 0 1 1 1 1 1 2 0 0 0 1 1\n",
            " 1 0 0 1 1 0 1 0 1 1 0 1 1 1 1 1 1 1 1 0 0 1 1 2 1 0 1 1 1 1 0 1 1 1 1 1 1\n",
            " 0 1 1 1 0 0 0 1 1 1 1 1 1 1 1 0 1 1 1 1 0 1 1 1 1 1 1 0 1 1 1 1 2 0 1 1 1\n",
            " 1 0 1 1 1 0 0 0 1 1 1 1 1 1 0 1 1 0 1 1 2 1 1 0 1 1 0 0 1 1 1 1 0 1 1 1 1\n",
            " 1 1 0 1 2 0 1 1 0 1 1 1 1 1 2 1 1 1 1 1 0 1 1 1 1 1 1 1 1 1 1 0 1 0 1 1 1\n",
            " 1 1 1 0 1 1 1 0 1 2 1 1 1 2 1 2 1 1 1 0 1 1 1 1 1 0 2 0 0 1 1 1 2 0 0 0 2\n",
            " 0 1 1 1 1 1 1 1 2 1 0 1 1 1 0 0 1 1 1 1 1 0 1 1 0 1 1 1 1 1 0 1 0 1 0 1 0\n",
            " 2 0 1 1 1 0 1 0 1 1 0 0 1 1 1 1 1 1 1 1 0 1 1 1 0 1 1 1 1 1 1 1 1 0 1 1 1\n",
            " 1 0 1 2 2 0 1 1 2 1 1 2 1 1 0 1 1 0 1 1 1 1 1 1 1 2 1 1 1 1 1 1 0 1 1 1 1\n",
            " 1 1 1 1 0 1 1 1 0 1 0 1 1 1 1 1 1 1 1 1 1 1 1 1 2 1 1 1 1 1 1 1 1 1 1 1 1\n",
            " 0 1 1 1 1 1 2 1 1 1 0 1 0 1 1 0 1 1 1 1 1 1 1 0 1 0 1 1 1 1 1 1 1 0 1 1 1\n",
            " 1 1 1 1 1 1 1 1 1 1 0 1 1 1 1 2 1 1 1 1 0 1 1 1 1 1 0 1 0 1 0 1 1 1 1 1 0\n",
            " 1 1 0 1 0 1 1 0 1 1 1 1 1 1 1 1 1 1 1 1 0 1 1 1 0 1 1 1 1 1 1 2 1 1 0 1 1\n",
            " 1 1 0 1 1 1 1 1 2 0 1 1 1 0 0 1 0 0 1 1 1 1 1 1 1 1 1 1 1 1 1 1 1 1 1 1 1\n",
            " 1 1 1 1 1 0 1 0 1 1 1 1 1 1 0 1 1 1 1 1 1 1 1 2 2 1 1 1 1 1 0 1 1 1 1 1 0\n",
            " 0 1 1 1 1 1 1 1 2 1 0 1 1 0 1 1 0 0 1 1 1 0 1 1 0 1 0 1 2 0 0 1 1 1 1 1 0\n",
            " 1 1 0 1 0 0 2 1 1 0 0 0 1 1 1 1 1 0 2 0 1 1 1 1 1 1 1 0 1 1 1 1 1 1 1 0 1\n",
            " 1 1 0 0 1 1 1 1 1 1 1 2 0 1 1 1 0 1 1 1 1 1 1 1 1 0 1 0 1 1 1 1 0 2 0 0 0\n",
            " 1 1 1 1 2 1 1 1 0 1 1 1 1 0 1 1 1 1 1 1 0 1 1 2 1 1 1 1 1 1 1 0 1 1 1 1 1\n",
            " 1 0 0 0 1 1 1 0 1 1 1 0 0 1 0 1 1 1 1 0 1 1 1 1 1 0 1 0 2 1 1 2 1 1 1 2 1\n",
            " 0 0 1 1 2 1 1 1 1 1 1 1 0 0 0 0 1 1 2 0 1 1 1 1 1 1 0 1 1 1 1 0 0 1 1 1 1\n",
            " 0 1 1 2 1 1 1 0 1 0 1 1 0 1 1 1 1 0 1 0 1 1 1 1 1 1 1 1 0 0 2 1 1 0 1 1 2\n",
            " 0 0 1 1 1 0 1 2 1 1 1 0 1 1 2 1 1 1 1 1 1 1 0 0 1 1 1 2 1 2 1 1 1 2 1 1 0\n",
            " 1 1 2 1 1 1 1 1 1 1 1 1 1 0 0 1 1 1 1 1 0 1 1 1 1 1 1 0 2 1 1 1 1 0 1 1 1\n",
            " 1 1 1 1 1 1 0 0 1 0 1 0 1 1 1 1 1 1 0 0 1 0 1 1 0 1 0 1 1 1 1 0 1 1 0 1 1\n",
            " 0]\n"
          ],
          "name": "stdout"
        }
      ]
    },
    {
      "cell_type": "markdown",
      "metadata": {
        "id": "NnKZHsTrVFc4",
        "colab_type": "text"
      },
      "source": [
        "After find the cluster for every row, we want to add the new feature of Cluster based on K-Means."
      ]
    },
    {
      "cell_type": "code",
      "metadata": {
        "id": "jUe2Or6fwOGV",
        "colab_type": "code",
        "colab": {
          "base_uri": "https://localhost:8080/",
          "height": 204
        },
        "outputId": "9c3a5ba8-a070-4e0f-e373-3752aa1b1656"
      },
      "source": [
        "dataset[\"ClusterKMeans\"] = labels\n",
        "dataset.head()"
      ],
      "execution_count": 360,
      "outputs": [
        {
          "output_type": "execute_result",
          "data": {
            "text/html": [
              "<div>\n",
              "<style scoped>\n",
              "    .dataframe tbody tr th:only-of-type {\n",
              "        vertical-align: middle;\n",
              "    }\n",
              "\n",
              "    .dataframe tbody tr th {\n",
              "        vertical-align: top;\n",
              "    }\n",
              "\n",
              "    .dataframe thead th {\n",
              "        text-align: right;\n",
              "    }\n",
              "</style>\n",
              "<table border=\"1\" class=\"dataframe\">\n",
              "  <thead>\n",
              "    <tr style=\"text-align: right;\">\n",
              "      <th></th>\n",
              "      <th>ID</th>\n",
              "      <th>Age</th>\n",
              "      <th>Job</th>\n",
              "      <th>Credit amount</th>\n",
              "      <th>Duration</th>\n",
              "      <th>Sex</th>\n",
              "      <th>Housing</th>\n",
              "      <th>Purpose</th>\n",
              "      <th>ClusterKMeans</th>\n",
              "    </tr>\n",
              "  </thead>\n",
              "  <tbody>\n",
              "    <tr>\n",
              "      <th>0</th>\n",
              "      <td>0</td>\n",
              "      <td>67</td>\n",
              "      <td>2</td>\n",
              "      <td>1169</td>\n",
              "      <td>6</td>\n",
              "      <td>1</td>\n",
              "      <td>1</td>\n",
              "      <td>5</td>\n",
              "      <td>1</td>\n",
              "    </tr>\n",
              "    <tr>\n",
              "      <th>1</th>\n",
              "      <td>1</td>\n",
              "      <td>22</td>\n",
              "      <td>2</td>\n",
              "      <td>5951</td>\n",
              "      <td>48</td>\n",
              "      <td>0</td>\n",
              "      <td>1</td>\n",
              "      <td>5</td>\n",
              "      <td>0</td>\n",
              "    </tr>\n",
              "    <tr>\n",
              "      <th>2</th>\n",
              "      <td>2</td>\n",
              "      <td>49</td>\n",
              "      <td>1</td>\n",
              "      <td>2096</td>\n",
              "      <td>12</td>\n",
              "      <td>1</td>\n",
              "      <td>1</td>\n",
              "      <td>3</td>\n",
              "      <td>1</td>\n",
              "    </tr>\n",
              "    <tr>\n",
              "      <th>3</th>\n",
              "      <td>3</td>\n",
              "      <td>45</td>\n",
              "      <td>2</td>\n",
              "      <td>7882</td>\n",
              "      <td>42</td>\n",
              "      <td>1</td>\n",
              "      <td>0</td>\n",
              "      <td>4</td>\n",
              "      <td>0</td>\n",
              "    </tr>\n",
              "    <tr>\n",
              "      <th>4</th>\n",
              "      <td>4</td>\n",
              "      <td>53</td>\n",
              "      <td>2</td>\n",
              "      <td>4870</td>\n",
              "      <td>24</td>\n",
              "      <td>1</td>\n",
              "      <td>0</td>\n",
              "      <td>1</td>\n",
              "      <td>0</td>\n",
              "    </tr>\n",
              "  </tbody>\n",
              "</table>\n",
              "</div>"
            ],
            "text/plain": [
              "   ID  Age  Job  Credit amount  Duration  Sex  Housing  Purpose  ClusterKMeans\n",
              "0   0   67    2           1169         6    1        1        5              1\n",
              "1   1   22    2           5951        48    0        1        5              0\n",
              "2   2   49    1           2096        12    1        1        3              1\n",
              "3   3   45    2           7882        42    1        0        4              0\n",
              "4   4   53    2           4870        24    1        0        1              0"
            ]
          },
          "metadata": {
            "tags": []
          },
          "execution_count": 360
        }
      ]
    },
    {
      "cell_type": "code",
      "metadata": {
        "id": "PWzydQ3zGu49",
        "colab_type": "code",
        "colab": {
          "base_uri": "https://localhost:8080/",
          "height": 85
        },
        "outputId": "519353e3-0c36-4cce-a5ce-b9cd6ee06923"
      },
      "source": [
        "K= dataset.ClusterKMeans.value_counts()\n",
        "K"
      ],
      "execution_count": 361,
      "outputs": [
        {
          "output_type": "execute_result",
          "data": {
            "text/plain": [
              "1    728\n",
              "0    216\n",
              "2     56\n",
              "Name: ClusterKMeans, dtype: int64"
            ]
          },
          "metadata": {
            "tags": []
          },
          "execution_count": 361
        }
      ]
    },
    {
      "cell_type": "markdown",
      "metadata": {
        "id": "1YMGYTsMVSiM",
        "colab_type": "text"
      },
      "source": [
        "We know that cluster 0 has the highest amount of than the another cluster. Now Lets see what makes cluster 0 is the highest Cluster than the other by clustering visualization looking from the features of Dataset."
      ]
    },
    {
      "cell_type": "markdown",
      "metadata": {
        "id": "QzLOU9xg2qXr",
        "colab_type": "text"
      },
      "source": [
        "## Clustering Correlation"
      ]
    },
    {
      "cell_type": "code",
      "metadata": {
        "id": "rd2NLjjMJcwt",
        "colab_type": "code",
        "colab": {
          "base_uri": "https://localhost:8080/",
          "height": 628
        },
        "outputId": "2224b2cd-fea3-4182-eed4-fb3f11a43eea"
      },
      "source": [
        "import matplotlib.pyplot as plt \n",
        "import seaborn as sns\n",
        "import numpy as np\n",
        "#create correlation with hitmap\n",
        "\n",
        "#create correlation\n",
        "corr = dataset.corr(method = 'pearson')\n",
        "\n",
        "#convert correlation to numpy array\n",
        "mask = np.array(corr)\n",
        "\n",
        "#to mask the repetitive value for each pair\n",
        "mask[np.tril_indices_from(mask)] = False\n",
        "fig, ax = plt.subplots(figsize = (5,3))\n",
        "fig.set_size_inches(10,10)\n",
        "sns.heatmap(corr, \n",
        "            mask = mask, \n",
        "            vmax = 0.1, \n",
        "            square = True, \n",
        "            annot = True)"
      ],
      "execution_count": 362,
      "outputs": [
        {
          "output_type": "execute_result",
          "data": {
            "text/plain": [
              "<matplotlib.axes._subplots.AxesSubplot at 0x7fb999c620b8>"
            ]
          },
          "metadata": {
            "tags": []
          },
          "execution_count": 362
        },
        {
          "output_type": "display_data",
          "data": {
            "image/png": "[encoded data removed]",
            "text/plain": [
              "<Figure size 720x720 with 2 Axes>"
            ]
          },
          "metadata": {
            "tags": []
          }
        }
      ]
    },
    {
      "cell_type": "markdown",
      "metadata": {
        "id": "T78I6kkwhole",
        "colab_type": "text"
      },
      "source": [
        "Based on the correlation that being processed by pearson method. <br>\n",
        "<br>The **Correlation between Cluster K-Means and Other Feature** is like the explanation.\n",
        "\n",
        "\n",
        "1.   Cluster - Credit Amount = 0.91. This is the high correlation of Cluster with feature. It means that the Credit amount of costumer have the highest affect to Clustering.\n",
        "2.   Cluster - Duration = 0.59\n",
        "3. Cluster -Job = 0.24\n",
        "4. Cluster - Sex = 0.093\n",
        "5. Cluster - Age = 0.03\n",
        "6. Cluster - Purpose = -0.17\n",
        "7. Cluster - Housing = -0.15\n",
        "8. Cluster - ID = -0.0091\n",
        "\n",
        "**Notes** <br>\n",
        "The (+) number correlation means that the **highest the feature** will be include in the **highest cluster** <br>\n",
        "The (-) number correlation means that **the lowers the feature** will be include in the **highest cluster.** <br>\n",
        "\n",
        "<br>\n",
        "\n",
        "We can see that **ID, Housing and Purpose** feature didnt have a big affect to define a cluster because they have a low correlation with Cluster KMeans. And **Duration, Job, Sex, and Age** have a medium correlation with Cluster K-Means\n",
        "\n"
      ]
    },
    {
      "cell_type": "markdown",
      "metadata": {
        "id": "gIZFlxpMmP2r",
        "colab_type": "text"
      },
      "source": [
        "## Clustering Visualization\n",
        "\n",
        "Based on Pearson Correlation Method, we can see that Credit Amount have the highest value correlation with Cluster K-Means. So, in this visualization, we want to know how the correlation of Credit Score with other values that can define that record to the type of cluster."
      ]
    },
    {
      "cell_type": "markdown",
      "metadata": {
        "id": "YitWJjKF4TCh",
        "colab_type": "text"
      },
      "source": [
        "### Credit Amount and Duration"
      ]
    },
    {
      "cell_type": "code",
      "metadata": {
        "id": "uzOweptp7vvo",
        "colab_type": "code",
        "colab": {
          "base_uri": "https://localhost:8080/",
          "height": 295
        },
        "outputId": "58458e25-c894-4abf-a15d-8779893530a1"
      },
      "source": [
        "x = X[:,3]\n",
        "x1 = X[:,2]\n",
        "group= labels\n",
        "color = ['red','blue','green']\n",
        "fig, ax = plt.subplots()\n",
        "for g in set(labels):\n",
        "    xa = [x[j] for j in range(len(x)) if group[j]==g]\n",
        "    xb = [x1[j] for j in range(len(x1)) if group[j]==g]\n",
        "    ax.scatter(xa,xb, c=color[g], label=g)\n",
        "ax.legend()\n",
        "plt.xlabel(\"Duration\")\n",
        "plt.ylabel(\"Credit Amount\")\n",
        "plt.title(\"Cluster Credit Amount and Duration\")\n",
        "plt.show()"
      ],
      "execution_count": 363,
      "outputs": [
        {
          "output_type": "display_data",
          "data": {
            "image/png": "[encoded data removed]",
            "text/plain": [
              "<Figure size 432x288 with 1 Axes>"
            ]
          },
          "metadata": {
            "tags": []
          }
        }
      ]
    },
    {
      "cell_type": "markdown",
      "metadata": {
        "id": "ILIK9V5nvBdi",
        "colab_type": "text"
      },
      "source": [
        "Credit Amount and Duration have 0.62 correlation which is the highest correlation of Credit Amount with other values. <br>\n",
        "<br>\n",
        "Based on the graph, we can see that \n",
        "- **Cluster 0** is the Costumer that have a **low credit amount** and also have the **short duration** which is means that they have a **low or good risk** because they can giving back the credit fastly.\n",
        "- **Cluster 1** is the Costumer that have a **average credit amount** and also have the **short duration** which is means that they have a **medium risk** because they can giving back the credit fastly but not as fast like Cluster 0.\n",
        "- **Cluster 2** is the Costumer that have a **high credit amount** and also have the **long duration** which is means that they have a **high risk** because they can giving back the credit slowly."
      ]
    },
    {
      "cell_type": "markdown",
      "metadata": {
        "id": "-BhYN1Ch4ZRt",
        "colab_type": "text"
      },
      "source": [
        "### Credit Amount and Sex"
      ]
    },
    {
      "cell_type": "code",
      "metadata": {
        "id": "iuDmVpHf8Ifj",
        "colab_type": "code",
        "colab": {
          "base_uri": "https://localhost:8080/",
          "height": 295
        },
        "outputId": "4cc10c50-f281-4f51-c132-e943e2616669"
      },
      "source": [
        "x = X[:,4]\n",
        "x1 = X[:,2]\n",
        "group= labels\n",
        "color = ['red','blue','green']\n",
        "fig, ax = plt.subplots()\n",
        "for g in set(labels):\n",
        "    xa = [x[j] for j in range(len(x)) if group[j]==g]\n",
        "    xb = [x1[j] for j in range(len(x1)) if group[j]==g]\n",
        "    ax.scatter(xa,xb, c=color[g], label=g)\n",
        "ax.legend()\n",
        "plt.xlabel(\"Sex\")\n",
        "plt.ylabel(\"Credit Amount\")\n",
        "plt.title(\"Cluster Credit Amount and Sex\")\n",
        "plt.show()"
      ],
      "execution_count": 364,
      "outputs": [
        {
          "output_type": "display_data",
          "data": {
            "image/png": "[encoded data removed]",
            "text/plain": [
              "<Figure size 432x288 with 1 Axes>"
            ]
          },
          "metadata": {
            "tags": []
          }
        }
      ]
    },
    {
      "cell_type": "markdown",
      "metadata": {
        "id": "z58npaRJycif",
        "colab_type": "text"
      },
      "source": [
        "Based on the correlation of Credit Amount and Gender of Customer that have 0.093 value on pearson correlation, we can see that in the **female and male there was the same amount of Credit in cluster 0 and 1**. <br>\n",
        "\n",
        "but **female have the higher amount of cluster than female in cluster 2** when we were looking by the highest amount of Credit which the density of male is more crowded than female in cluster 1."
      ]
    },
    {
      "cell_type": "markdown",
      "metadata": {
        "id": "ViJgbVC_4F-g",
        "colab_type": "text"
      },
      "source": [
        "### Credit Amount and Age"
      ]
    },
    {
      "cell_type": "code",
      "metadata": {
        "id": "WDzlblzT6yQp",
        "colab_type": "code",
        "colab": {
          "base_uri": "https://localhost:8080/",
          "height": 295
        },
        "outputId": "c5bc678e-a49e-45e6-d389-3b89e3a4fdba"
      },
      "source": [
        "x = X[:,0]\n",
        "x1 = X[:,2]\n",
        "group= labels\n",
        "color = ['red','blue','green']\n",
        "fig, ax = plt.subplots()\n",
        "for g in set(labels):\n",
        "    xa = [x[j] for j in range(len(x)) if group[j]==g]\n",
        "    xb = [x1[j] for j in range(len(x1)) if group[j]==g]\n",
        "    ax.scatter(xa,xb, c=color[g], label=g)\n",
        "ax.legend()\n",
        "plt.xlabel(\"Age\")\n",
        "plt.ylabel(\"Credit Amount\")\n",
        "plt.title(\"Cluster Age and Credit Amount\")\n",
        "plt.show()"
      ],
      "execution_count": 365,
      "outputs": [
        {
          "output_type": "display_data",
          "data": {
            "image/png": "[encoded data removed]",
            "text/plain": [
              "<Figure size 432x288 with 1 Axes>"
            ]
          },
          "metadata": {
            "tags": []
          }
        }
      ]
    },
    {
      "cell_type": "markdown",
      "metadata": {
        "id": "pPNa-7JS0fwb",
        "colab_type": "text"
      },
      "source": [
        "Based on the correlation of Credit Amount and Gender of Customer that have 0.033 value on pearson correlation, we can see that **cluster 0 have the highest amount** because the density of the cluster is too crowded than other cluster. But on the age distribution, all cluster is not far away from one cluster to another cluster. But in the age of more than 70 is categorized as cluster 0 and cluster 2 with low and medium credit amount."
      ]
    },
    {
      "cell_type": "markdown",
      "metadata": {
        "id": "8JkoWutQ4gaY",
        "colab_type": "text"
      },
      "source": [
        "### Credit Amount and Housing"
      ]
    },
    {
      "cell_type": "code",
      "metadata": {
        "id": "QIuq9DsI8fW0",
        "colab_type": "code",
        "colab": {
          "base_uri": "https://localhost:8080/",
          "height": 295
        },
        "outputId": "6d45f37a-20aa-4742-d28a-b4ac403e9a1c"
      },
      "source": [
        "x = X[:,5]\n",
        "x1 = X[:,2]\n",
        "group= labels\n",
        "color = ['red','blue','green']\n",
        "fig, ax = plt.subplots()\n",
        "for g in set(labels):\n",
        "    xa = [x[j] for j in range(len(x)) if group[j]==g]\n",
        "    xb = [x1[j] for j in range(len(x1)) if group[j]==g]\n",
        "    ax.scatter(xa,xb, c=color[g], label=g)\n",
        "ax.legend()\n",
        "plt.xlabel(\"Housing\")\n",
        "plt.ylabel(\"Credit Amount\")\n",
        "plt.title(\"Cluster Credit Amount and Housing\")\n",
        "plt.show()"
      ],
      "execution_count": 366,
      "outputs": [
        {
          "output_type": "display_data",
          "data": {
            "image/png": "[encoded data removed]",
            "text/plain": [
              "<Figure size 432x288 with 1 Axes>"
            ]
          },
          "metadata": {
            "tags": []
          }
        }
      ]
    },
    {
      "cell_type": "markdown",
      "metadata": {
        "id": "oa0g3PxF11ht",
        "colab_type": "text"
      },
      "source": [
        "Based on the correlation of Credit Amount and Housing Status of Customer that have -0.14 value on pearson correlation, we can see that in the **female and male there was the same amount of Credit in cluster 0 and 1**. <br>\n",
        "\n",
        "but **own housing status have the higher amount of cluster than rent and free housing type in cluster 2** when we were looking by the highest amount of Credit which the density of own housing status is more crowded than rent and free housing type in cluster 2"
      ]
    },
    {
      "cell_type": "markdown",
      "metadata": {
        "id": "ChUM52cw4jsQ",
        "colab_type": "text"
      },
      "source": [
        "### Credit Amount and Purpose"
      ]
    },
    {
      "cell_type": "code",
      "metadata": {
        "id": "gwcnUxB88v60",
        "colab_type": "code",
        "colab": {
          "base_uri": "https://localhost:8080/",
          "height": 295
        },
        "outputId": "0a627e4d-3e82-4f4d-d399-fa1c5e1ec29d"
      },
      "source": [
        "x = X[:,6]\n",
        "x1 = X[:,2]\n",
        "group= labels\n",
        "color = ['red','blue','green']\n",
        "fig, ax = plt.subplots()\n",
        "for g in set(labels):\n",
        "    xa = [x[j] for j in range(len(x)) if group[j]==g]\n",
        "    xb = [x1[j] for j in range(len(x1)) if group[j]==g]\n",
        "    ax.scatter(xa,xb, c=color[g], label=g)\n",
        "ax.legend()\n",
        "plt.xlabel(\"Purpose\")\n",
        "plt.ylabel(\"Credit Amount\")\n",
        "plt.title(\"Cluster Credit Amount and Purpose\")\n",
        "plt.show()"
      ],
      "execution_count": 367,
      "outputs": [
        {
          "output_type": "display_data",
          "data": {
            "image/png": "[encoded data removed]",
            "text/plain": [
              "<Figure size 432x288 with 1 Axes>"
            ]
          },
          "metadata": {
            "tags": []
          }
        }
      ]
    },
    {
      "cell_type": "markdown",
      "metadata": {
        "id": "U9h7u5bx3DDM",
        "colab_type": "text"
      },
      "source": [
        "Based on the graph, we can see that **in the cluster 0 and Cluster 1, Domestic Appliance, Repairs and Vacation purpose is the lowest amount of Credit**.\n",
        "\n",
        "While in the cluster 2, **domestic appliance purpose have the higher amount than other purpose based on Highest Credit Amount.**\n",
        "\n"
      ]
    },
    {
      "cell_type": "markdown",
      "metadata": {
        "id": "Dj2x8l9d4u9c",
        "colab_type": "text"
      },
      "source": [
        "## Amount of Cluster"
      ]
    },
    {
      "cell_type": "code",
      "metadata": {
        "id": "KqW4yewa3t_J",
        "colab_type": "code",
        "colab": {
          "base_uri": "https://localhost:8080/",
          "height": 85
        },
        "outputId": "fb8a6f9b-ce02-4b93-b13e-4f6d3655c743"
      },
      "source": [
        "Cluster= dataset.ClusterKMeans.value_counts()\n",
        "Cluster"
      ],
      "execution_count": 368,
      "outputs": [
        {
          "output_type": "execute_result",
          "data": {
            "text/plain": [
              "1    728\n",
              "0    216\n",
              "2     56\n",
              "Name: ClusterKMeans, dtype: int64"
            ]
          },
          "metadata": {
            "tags": []
          },
          "execution_count": 368
        }
      ]
    },
    {
      "cell_type": "markdown",
      "metadata": {
        "id": "H8b6-LFh5hIw",
        "colab_type": "text"
      },
      "source": [
        "**Cluster 0 as lower Risk** has the highest value which there was 728 costumer that include\n",
        "- **Credit Amount** : Low (0-4000)\n",
        "- **Duration Credit** : between 0-50\n",
        "- **Age** : between 0-70 but not too much in age betweet 0-50.\n",
        "- **Credit Purpose** : Business, Car, Furniture Equipment.\n",
        "- Have the Same Proportion on **Housing Type and Gender**\n",
        "<br>\n",
        "<br>\n",
        "\n",
        "**Cluster 1 as medium Risk** has the medium value which there was 216 costumer that include :\n",
        "- **Credit Amount** : Medium (4000-8500)\n",
        "- **Duration Credit** : between 0-50, but sometimes can more than 70\n",
        "- **Age** : between 0-70 but too much in age between 0-50.\n",
        "- **Purpose**: Business, Car, Furniture Equipment.\n",
        "- Have the Same Proportion on **Housing Type and Gender**\n",
        "<br>\n",
        "<br>\n",
        "\n",
        "**Cluster 2 as High Risk** has the lowest value which there was only 56 costumer that include :\n",
        "- **Credit Amount** : High (More than 8500)\n",
        "- **Duration Credit** : between 0-60, too much is 37, 49, 60.\n",
        "- **Age** : between 0-50 but sometimes more than age between 0-50.\n",
        "- **Purpose**: Car.\n",
        "- **Housing Type**: Own Housing\n",
        "- **Gender** : Female\n"
      ]
    },
    {
      "cell_type": "markdown",
      "metadata": {
        "id": "m_4lznfb9j3R",
        "colab_type": "text"
      },
      "source": [
        "## Clustering Analysis\n",
        "\n",
        "Give **a possible Credit** for Customer who have a low risk and medium risk with the criteria :\n",
        "- **Credit Amount** in 0-8500\n",
        "- **Duration Credit** in 0-70\n",
        "- **Age** between 0-50\n",
        "- **Credit** Purpose for Business, Car, and Furniture Equipment\n",
        "- **Gender and Housing Type** it doesnt matter.\n",
        "\n",
        "**Minimize The Credit** For Costumer who have a high risk with criteria :\n",
        "- **Credit Amount** : More than 8500\n",
        "- **Duration Credit** : age in 37, 49, 60.\n",
        "- **Age** : between 50-70 \n",
        "- **Purpose**: Car.\n",
        "- **Housing Type**: Own Housing\n",
        "- **Gender** : Female\n"
      ]
    },
    {
      "cell_type": "markdown",
      "metadata": {
        "id": "xj5_8DbQ5WCJ",
        "colab_type": "text"
      },
      "source": [
        "# Hierarchical Clustering"
      ]
    },
    {
      "cell_type": "markdown",
      "metadata": {
        "id": "aly8lZGYBNZ2",
        "colab_type": "text"
      },
      "source": [
        "## Dendogram"
      ]
    },
    {
      "cell_type": "code",
      "metadata": {
        "id": "yh-uOEoB5Ckg",
        "colab_type": "code",
        "colab": {
          "base_uri": "https://localhost:8080/",
          "height": 1000
        },
        "outputId": "9fa2be96-02c0-43f0-f5f2-d181906a8964"
      },
      "source": [
        "import scipy.cluster.hierarchy as sch\n",
        "\n",
        "plt.figure()\n",
        "dendrogram1 = sch.dendrogram(sch.linkage(X, method='ward'))\n",
        "plt.title(\"Ward Linkage\")\n",
        "fig, ax = plt.subplots()\n",
        "dendrogram2 = sch.dendrogram(sch.linkage(X, method='single'))\n",
        "plt.title(\"Singe Linkage\")\n",
        "fig, ax = plt.subplots()\n",
        "dendrogram3 = sch.dendrogram(sch.linkage(X, method='complete'))\n",
        "plt.title(\"Complete Linkage\")\n",
        "fig, ax = plt.subplots()\n",
        "dendrogram4 = sch.dendrogram(sch.linkage(X, method='average'))\n",
        "plt.title(\"Average Linkage\")\n",
        "plt.show()"
      ],
      "execution_count": 369,
      "outputs": [
        {
          "output_type": "display_data",
          "data": {
            "image/png": "[encoded data removed]",
            "text/plain": [
              "<Figure size 432x288 with 1 Axes>"
            ]
          },
          "metadata": {
            "tags": []
          }
        },
        {
          "output_type": "display_data",
          "data": {
            "image/png": "[encoded data removed]",
            "text/plain": [
              "<Figure size 432x288 with 1 Axes>"
            ]
          },
          "metadata": {
            "tags": []
          }
        },
        {
          "output_type": "display_data",
          "data": {
            "image/png": "[encoded data removed]",
            "text/plain": [
              "<Figure size 432x288 with 1 Axes>"
            ]
          },
          "metadata": {
            "tags": []
          }
        },
        {
          "output_type": "display_data",
          "data": {
            "image/png": "[encoded data removed]",
            "text/plain": [
              "<Figure size 432x288 with 1 Axes>"
            ]
          },
          "metadata": {
            "tags": []
          }
        }
      ]
    },
    {
      "cell_type": "markdown",
      "metadata": {
        "id": "SMU8DUO__esF",
        "colab_type": "text"
      },
      "source": [
        "Based on the linkage, a good hierarchical clustering is better to use ward method linkage with n-cluster = 3"
      ]
    },
    {
      "cell_type": "code",
      "metadata": {
        "id": "ZsglfNLtBAUJ",
        "colab_type": "code",
        "colab": {
          "base_uri": "https://localhost:8080/",
          "height": 269
        },
        "outputId": "db1bff1b-2029-40ba-bd5d-491a702b4067"
      },
      "source": [
        "import scipy.cluster.hierarchy as sch\n",
        "dendrogram2 = sch.dendrogram(sch.linkage(X, method='ward'))"
      ],
      "execution_count": 370,
      "outputs": [
        {
          "output_type": "display_data",
          "data": {
            "image/png": "[encoded data removed]",
            "text/plain": [
              "<Figure size 432x288 with 1 Axes>"
            ]
          },
          "metadata": {
            "tags": []
          }
        }
      ]
    },
    {
      "cell_type": "markdown",
      "metadata": {
        "id": "4GruPSEVEMWG",
        "colab_type": "text"
      },
      "source": [
        "## Fitting"
      ]
    },
    {
      "cell_type": "code",
      "metadata": {
        "id": "jbgm6b9sBG06",
        "colab_type": "code",
        "colab": {
          "base_uri": "https://localhost:8080/",
          "height": 799
        },
        "outputId": "eef01d62-8b51-4b23-8561-494380ee52a1"
      },
      "source": [
        "from sklearn.cluster import AgglomerativeClustering\n",
        "model = AgglomerativeClustering(n_clusters=3, affinity='euclidean', linkage='ward')\n",
        "model.fit(X)\n",
        "labelss = model.labels_\n",
        "labelss"
      ],
      "execution_count": 371,
      "outputs": [
        {
          "output_type": "execute_result",
          "data": {
            "text/plain": [
              "array([0, 2, 0, 2, 2, 1, 0, 2, 0, 2, 0, 0, 0, 0, 0, 0, 0, 2, 1, 0, 0, 0,\n",
              "       0, 0, 0, 0, 0, 0, 0, 2, 0, 0, 2, 0, 0, 2, 2, 0, 0, 0, 0, 0, 2, 2,\n",
              "       2, 0, 0, 0, 2, 0, 0, 2, 0, 0, 0, 0, 2, 1, 0, 2, 0, 0, 0, 1, 0, 2,\n",
              "       0, 0, 0, 0, 2, 0, 0, 2, 0, 0, 0, 2, 1, 0, 2, 0, 0, 0, 0, 0, 0, 1,\n",
              "       0, 0, 0, 0, 0, 0, 0, 1, 0, 0, 0, 2, 0, 0, 0, 0, 0, 1, 2, 2, 2, 0,\n",
              "       0, 0, 2, 2, 0, 0, 2, 0, 0, 0, 0, 0, 0, 0, 0, 0, 0, 0, 0, 0, 2, 2,\n",
              "       0, 0, 1, 0, 2, 0, 0, 0, 0, 2, 0, 0, 0, 0, 0, 0, 2, 0, 0, 0, 2, 2,\n",
              "       2, 0, 0, 0, 0, 0, 0, 0, 0, 2, 0, 0, 0, 0, 0, 0, 0, 0, 0, 0, 0, 2,\n",
              "       0, 0, 0, 0, 1, 2, 0, 0, 0, 0, 2, 0, 0, 0, 2, 0, 0, 0, 0, 0, 0, 0,\n",
              "       0, 0, 0, 0, 2, 0, 0, 1, 0, 0, 2, 0, 0, 0, 2, 0, 0, 0, 0, 0, 0, 0,\n",
              "       0, 0, 0, 0, 2, 0, 1, 2, 0, 0, 0, 0, 0, 0, 0, 0, 1, 0, 0, 0, 0, 0,\n",
              "       2, 0, 0, 0, 0, 0, 0, 0, 0, 0, 0, 0, 0, 2, 0, 0, 0, 0, 0, 0, 2, 0,\n",
              "       0, 0, 2, 0, 1, 0, 0, 0, 1, 0, 1, 0, 0, 0, 2, 0, 0, 0, 0, 0, 0, 1,\n",
              "       2, 2, 0, 0, 0, 1, 2, 2, 2, 1, 2, 0, 0, 0, 0, 0, 0, 0, 1, 0, 2, 0,\n",
              "       0, 0, 2, 2, 0, 0, 0, 0, 0, 0, 0, 0, 0, 0, 0, 0, 0, 0, 2, 0, 2, 0,\n",
              "       2, 0, 2, 1, 0, 0, 0, 0, 0, 0, 2, 0, 0, 2, 0, 0, 0, 0, 0, 0, 0, 0,\n",
              "       0, 2, 0, 0, 0, 2, 0, 0, 0, 0, 0, 0, 0, 0, 0, 0, 0, 0, 0, 2, 0, 1,\n",
              "       1, 2, 0, 0, 1, 0, 0, 1, 0, 0, 0, 0, 0, 2, 0, 0, 0, 0, 0, 0, 0, 1,\n",
              "       0, 0, 0, 0, 0, 0, 2, 0, 0, 0, 0, 0, 0, 0, 0, 2, 0, 0, 0, 2, 0, 2,\n",
              "       0, 0, 0, 0, 0, 0, 0, 0, 0, 0, 0, 0, 0, 1, 0, 0, 0, 0, 0, 0, 0, 0,\n",
              "       0, 0, 0, 0, 2, 0, 0, 0, 0, 0, 1, 0, 0, 0, 2, 0, 0, 0, 0, 2, 0, 0,\n",
              "       0, 0, 0, 0, 0, 2, 0, 2, 0, 0, 0, 0, 0, 0, 0, 2, 0, 0, 0, 0, 0, 0,\n",
              "       0, 0, 0, 0, 0, 0, 0, 2, 0, 0, 0, 0, 1, 0, 0, 0, 0, 2, 0, 0, 0, 0,\n",
              "       0, 2, 0, 2, 0, 2, 0, 0, 0, 0, 0, 2, 0, 0, 2, 0, 2, 0, 0, 2, 0, 0,\n",
              "       0, 0, 0, 0, 0, 0, 0, 0, 0, 0, 2, 0, 0, 0, 2, 0, 0, 0, 0, 0, 0, 1,\n",
              "       0, 0, 2, 0, 0, 0, 0, 2, 0, 0, 0, 0, 0, 1, 2, 0, 0, 0, 0, 2, 0, 2,\n",
              "       2, 0, 0, 0, 0, 0, 0, 0, 0, 0, 0, 0, 0, 0, 0, 0, 0, 0, 0, 0, 0, 0,\n",
              "       0, 0, 0, 0, 0, 0, 0, 0, 0, 0, 0, 0, 2, 0, 0, 0, 0, 0, 0, 0, 0, 1,\n",
              "       1, 0, 0, 0, 0, 0, 0, 0, 0, 0, 0, 0, 0, 0, 0, 0, 0, 0, 0, 0, 0, 1,\n",
              "       0, 0, 0, 0, 2, 0, 0, 2, 2, 0, 0, 0, 2, 0, 0, 2, 0, 0, 0, 1, 0, 2,\n",
              "       0, 0, 0, 0, 0, 2, 0, 0, 2, 0, 0, 2, 1, 0, 0, 2, 2, 2, 0, 0, 0, 0,\n",
              "       0, 2, 1, 2, 0, 0, 0, 0, 0, 0, 0, 2, 0, 0, 0, 0, 0, 0, 0, 2, 0, 0,\n",
              "       0, 2, 2, 0, 0, 0, 0, 0, 0, 0, 1, 2, 0, 0, 0, 2, 0, 0, 0, 0, 0, 0,\n",
              "       0, 0, 2, 0, 2, 0, 0, 0, 0, 0, 1, 0, 2, 0, 0, 0, 0, 0, 1, 0, 0, 0,\n",
              "       2, 0, 0, 0, 0, 2, 0, 0, 0, 0, 0, 0, 2, 0, 0, 1, 0, 0, 0, 0, 0, 0,\n",
              "       0, 2, 0, 0, 0, 0, 0, 0, 2, 0, 2, 0, 0, 0, 2, 0, 0, 0, 2, 2, 0, 2,\n",
              "       0, 0, 0, 0, 2, 0, 0, 0, 0, 0, 0, 0, 2, 1, 0, 0, 1, 0, 0, 0, 1, 0,\n",
              "       0, 2, 0, 0, 1, 0, 0, 0, 0, 0, 0, 0, 0, 0, 2, 2, 0, 0, 1, 2, 0, 0,\n",
              "       0, 0, 0, 0, 2, 0, 0, 0, 0, 0, 2, 0, 0, 0, 0, 0, 0, 0, 1, 0, 0, 0,\n",
              "       0, 0, 2, 0, 0, 2, 0, 0, 0, 0, 2, 0, 2, 0, 0, 0, 0, 0, 0, 0, 0, 2,\n",
              "       2, 1, 0, 0, 0, 0, 0, 1, 2, 2, 0, 0, 0, 2, 0, 1, 0, 0, 0, 0, 0, 0,\n",
              "       1, 0, 0, 0, 0, 0, 0, 0, 2, 2, 0, 0, 0, 1, 0, 1, 0, 0, 0, 1, 0, 0,\n",
              "       2, 0, 0, 1, 0, 0, 0, 0, 0, 0, 0, 0, 0, 0, 2, 2, 0, 0, 0, 0, 0, 2,\n",
              "       0, 0, 0, 0, 0, 0, 0, 1, 0, 0, 0, 0, 0, 0, 0, 0, 0, 0, 0, 0, 0, 0,\n",
              "       2, 0, 0, 2, 0, 2, 0, 0, 0, 0, 0, 0, 2, 2, 0, 2, 0, 0, 2, 0, 2, 0,\n",
              "       0, 0, 0, 0, 0, 0, 0, 0, 0, 2])"
            ]
          },
          "metadata": {
            "tags": []
          },
          "execution_count": 371
        }
      ]
    },
    {
      "cell_type": "code",
      "metadata": {
        "id": "FYzwc2DMEXU8",
        "colab_type": "code",
        "colab": {
          "base_uri": "https://localhost:8080/",
          "height": 204
        },
        "outputId": "831b9a11-5b0f-4075-b838-1c83dd6106e2"
      },
      "source": [
        "dataset[\"ClusterHierarchical\"] = labelss\n",
        "dataset.head()"
      ],
      "execution_count": 372,
      "outputs": [
        {
          "output_type": "execute_result",
          "data": {
            "text/html": [
              "<div>\n",
              "<style scoped>\n",
              "    .dataframe tbody tr th:only-of-type {\n",
              "        vertical-align: middle;\n",
              "    }\n",
              "\n",
              "    .dataframe tbody tr th {\n",
              "        vertical-align: top;\n",
              "    }\n",
              "\n",
              "    .dataframe thead th {\n",
              "        text-align: right;\n",
              "    }\n",
              "</style>\n",
              "<table border=\"1\" class=\"dataframe\">\n",
              "  <thead>\n",
              "    <tr style=\"text-align: right;\">\n",
              "      <th></th>\n",
              "      <th>ID</th>\n",
              "      <th>Age</th>\n",
              "      <th>Job</th>\n",
              "      <th>Credit amount</th>\n",
              "      <th>Duration</th>\n",
              "      <th>Sex</th>\n",
              "      <th>Housing</th>\n",
              "      <th>Purpose</th>\n",
              "      <th>ClusterKMeans</th>\n",
              "      <th>ClusterHierarchical</th>\n",
              "    </tr>\n",
              "  </thead>\n",
              "  <tbody>\n",
              "    <tr>\n",
              "      <th>0</th>\n",
              "      <td>0</td>\n",
              "      <td>67</td>\n",
              "      <td>2</td>\n",
              "      <td>1169</td>\n",
              "      <td>6</td>\n",
              "      <td>1</td>\n",
              "      <td>1</td>\n",
              "      <td>5</td>\n",
              "      <td>1</td>\n",
              "      <td>0</td>\n",
              "    </tr>\n",
              "    <tr>\n",
              "      <th>1</th>\n",
              "      <td>1</td>\n",
              "      <td>22</td>\n",
              "      <td>2</td>\n",
              "      <td>5951</td>\n",
              "      <td>48</td>\n",
              "      <td>0</td>\n",
              "      <td>1</td>\n",
              "      <td>5</td>\n",
              "      <td>0</td>\n",
              "      <td>2</td>\n",
              "    </tr>\n",
              "    <tr>\n",
              "      <th>2</th>\n",
              "      <td>2</td>\n",
              "      <td>49</td>\n",
              "      <td>1</td>\n",
              "      <td>2096</td>\n",
              "      <td>12</td>\n",
              "      <td>1</td>\n",
              "      <td>1</td>\n",
              "      <td>3</td>\n",
              "      <td>1</td>\n",
              "      <td>0</td>\n",
              "    </tr>\n",
              "    <tr>\n",
              "      <th>3</th>\n",
              "      <td>3</td>\n",
              "      <td>45</td>\n",
              "      <td>2</td>\n",
              "      <td>7882</td>\n",
              "      <td>42</td>\n",
              "      <td>1</td>\n",
              "      <td>0</td>\n",
              "      <td>4</td>\n",
              "      <td>0</td>\n",
              "      <td>2</td>\n",
              "    </tr>\n",
              "    <tr>\n",
              "      <th>4</th>\n",
              "      <td>4</td>\n",
              "      <td>53</td>\n",
              "      <td>2</td>\n",
              "      <td>4870</td>\n",
              "      <td>24</td>\n",
              "      <td>1</td>\n",
              "      <td>0</td>\n",
              "      <td>1</td>\n",
              "      <td>0</td>\n",
              "      <td>2</td>\n",
              "    </tr>\n",
              "  </tbody>\n",
              "</table>\n",
              "</div>"
            ],
            "text/plain": [
              "   ID  Age  Job  ...  Purpose  ClusterKMeans  ClusterHierarchical\n",
              "0   0   67    2  ...        5              1                    0\n",
              "1   1   22    2  ...        5              0                    2\n",
              "2   2   49    1  ...        3              1                    0\n",
              "3   3   45    2  ...        4              0                    2\n",
              "4   4   53    2  ...        1              0                    2\n",
              "\n",
              "[5 rows x 10 columns]"
            ]
          },
          "metadata": {
            "tags": []
          },
          "execution_count": 372
        }
      ]
    },
    {
      "cell_type": "markdown",
      "metadata": {
        "id": "2OfXb7YyQdHx",
        "colab_type": "text"
      },
      "source": [
        "## Clustering Correlation"
      ]
    },
    {
      "cell_type": "code",
      "metadata": {
        "id": "fn-A-omKP4i0",
        "colab_type": "code",
        "colab": {
          "base_uri": "https://localhost:8080/",
          "height": 649
        },
        "outputId": "ebf97632-89f8-462e-859a-8bea94ac8d8a"
      },
      "source": [
        "import matplotlib.pyplot as plt \n",
        "import seaborn as sns\n",
        "import numpy as np\n",
        "#create correlation with hitmap\n",
        "\n",
        "#create correlation\n",
        "corr = dataset.corr(method = 'pearson')\n",
        "\n",
        "#convert correlation to numpy array\n",
        "mask = np.array(corr)\n",
        "\n",
        "#to mask the repetitive value for each pair\n",
        "mask[np.tril_indices_from(mask)] = False\n",
        "fig, ax = plt.subplots(figsize = (5,3))\n",
        "fig.set_size_inches(10,10)\n",
        "sns.heatmap(corr, \n",
        "            mask = mask, \n",
        "            vmax = 0.1, \n",
        "            square = True, \n",
        "            annot = True)"
      ],
      "execution_count": 373,
      "outputs": [
        {
          "output_type": "execute_result",
          "data": {
            "text/plain": [
              "<matplotlib.axes._subplots.AxesSubplot at 0x7fb998c15be0>"
            ]
          },
          "metadata": {
            "tags": []
          },
          "execution_count": 373
        },
        {
          "output_type": "display_data",
          "data": {
            "image/png": "[encoded data removed]",
            "text/plain": [
              "<Figure size 720x720 with 2 Axes>"
            ]
          },
          "metadata": {
            "tags": []
          }
        }
      ]
    },
    {
      "cell_type": "markdown",
      "metadata": {
        "id": "sQtG3uSoBlh3",
        "colab_type": "text"
      },
      "source": [
        "## Clustering Visualization"
      ]
    },
    {
      "cell_type": "markdown",
      "metadata": {
        "id": "r_Nr5H7jQk7n",
        "colab_type": "text"
      },
      "source": [
        "### Credit Amount and Duration"
      ]
    },
    {
      "cell_type": "code",
      "metadata": {
        "id": "3TgvHNPLERfl",
        "colab_type": "code",
        "colab": {
          "base_uri": "https://localhost:8080/",
          "height": 295
        },
        "outputId": "4e6b131d-76d0-462f-b409-dfda5bf046f6"
      },
      "source": [
        "plt.scatter(X[labelss==0, 3], X[labelss==0, 2], s=50, marker='o', color='red')\n",
        "plt.scatter(X[labelss==1, 3], X[labelss==1, 2], s=50, marker='o', color='blue')\n",
        "plt.scatter(X[labelss==2, 3], X[labelss==2, 2], s=50, marker='o', color='green')\n",
        "plt.xlabel(\"Duration\")\n",
        "plt.ylabel(\"Credit Amount\")\n",
        "plt.title(\"Cluster Credit Amount and Duration\")\n",
        "plt.show()"
      ],
      "execution_count": 375,
      "outputs": [
        {
          "output_type": "display_data",
          "data": {
            "image/png": "[encoded data removed]",
            "text/plain": [
              "<Figure size 432x288 with 1 Axes>"
            ]
          },
          "metadata": {
            "tags": []
          }
        }
      ]
    },
    {
      "cell_type": "markdown",
      "metadata": {
        "id": "LcxP68iRScpO",
        "colab_type": "text"
      },
      "source": [
        "Based on the graph, we can see that \n",
        "- **Cluster 0** is the Costumer that have a **low credit amount** and also have the **short duration** which is means that they have a **low or good risk** because they can giving back the credit fastly.\n",
        "- **Cluster 1** is the Costumer that have a **average credit amount** and also have the **short duration** which is means that they have a **medium risk** because they can giving back the credit fastly but not as fast like Cluster 0.\n",
        "- **Cluster 2** is the Costumer that have a **high credit amount** and also have the **long duration** which is means that they have a **high risk** because they can giving back the credit slowly."
      ]
    },
    {
      "cell_type": "markdown",
      "metadata": {
        "id": "2kfTzev4Q23b",
        "colab_type": "text"
      },
      "source": [
        "### Credit Amount and Sex"
      ]
    },
    {
      "cell_type": "code",
      "metadata": {
        "id": "23Jr9gr-RcTA",
        "colab_type": "code",
        "colab": {
          "base_uri": "https://localhost:8080/",
          "height": 295
        },
        "outputId": "dca6c0b1-f285-42de-f4fa-89f280cab16f"
      },
      "source": [
        "plt.scatter(X[labelss==0, 4], X[labelss==0, 2], s=50, marker='o', color='red')\n",
        "plt.scatter(X[labelss==1, 4], X[labelss==1, 2], s=50, marker='o', color='blue')\n",
        "plt.scatter(X[labelss==2, 4], X[labelss==2, 2], s=50, marker='o', color='green')\n",
        "plt.xlabel(\"Sex\")\n",
        "plt.ylabel(\"Credit Amount\")\n",
        "plt.title(\"Cluster Credit Amount and Duration\")\n",
        "plt.show()"
      ],
      "execution_count": 376,
      "outputs": [
        {
          "output_type": "display_data",
          "data": {
            "image/png": "[encoded data removed]",
            "text/plain": [
              "<Figure size 432x288 with 1 Axes>"
            ]
          },
          "metadata": {
            "tags": []
          }
        }
      ]
    },
    {
      "cell_type": "markdown",
      "metadata": {
        "id": "iDhohI6KS9Tx",
        "colab_type": "text"
      },
      "source": [
        "We can see that in the **female and male there was the same amount of Credit in cluster 0 and 1**. <br>\n",
        "\n",
        "but **female have the higher amount of cluster than female in cluster 2** when we were looking by the highest amount of Credit which the density of male is more crowded than female in cluster 1."
      ]
    },
    {
      "cell_type": "markdown",
      "metadata": {
        "id": "bLlw9xtMRnVV",
        "colab_type": "text"
      },
      "source": [
        "### Credit Amount and Age"
      ]
    },
    {
      "cell_type": "code",
      "metadata": {
        "id": "gmCw5FJ-RuHt",
        "colab_type": "code",
        "colab": {
          "base_uri": "https://localhost:8080/",
          "height": 295
        },
        "outputId": "2a25ecb0-ce7d-4f36-ea1b-1c70f270f79c"
      },
      "source": [
        "plt.scatter(X[labelss==0, 0], X[labelss==0, 2], s=50, marker='o', color='red')\n",
        "plt.scatter(X[labelss==1, 0], X[labelss==1, 2], s=50, marker='o', color='blue')\n",
        "plt.scatter(X[labelss==2, 0], X[labelss==2, 2], s=50, marker='o', color='green')\n",
        "plt.xlabel(\"Age\")\n",
        "plt.ylabel(\"Credit Amount\")\n",
        "plt.title(\"Cluster Age and Credit Amount\")\n",
        "plt.show()"
      ],
      "execution_count": 377,
      "outputs": [
        {
          "output_type": "display_data",
          "data": {
            "image/png": "[encoded data removed]",
            "text/plain": [
              "<Figure size 432x288 with 1 Axes>"
            ]
          },
          "metadata": {
            "tags": []
          }
        }
      ]
    },
    {
      "cell_type": "markdown",
      "metadata": {
        "id": "ObW12QqnTrQd",
        "colab_type": "text"
      },
      "source": [
        "we can see that **cluster 0 have the highest amount** because the density of the cluster is too crowded than other cluster. But on the age distribution, all cluster is not far away from one cluster to another cluster. But in the age of more than 70 is categorized as cluster 0 and cluster 2 with low and medium credit amount."
      ]
    },
    {
      "cell_type": "markdown",
      "metadata": {
        "id": "Gw9THERMR5W7",
        "colab_type": "text"
      },
      "source": [
        "### Credit Amount and Housing"
      ]
    },
    {
      "cell_type": "code",
      "metadata": {
        "id": "3Krzst5oR950",
        "colab_type": "code",
        "colab": {
          "base_uri": "https://localhost:8080/",
          "height": 295
        },
        "outputId": "61de43f0-9749-410b-8e9a-9e0a9d837104"
      },
      "source": [
        "plt.scatter(X[labelss==0, 5], X[labelss==0, 2], s=50, marker='o', color='red')\n",
        "plt.scatter(X[labelss==1, 5], X[labelss==1, 2], s=50, marker='o', color='blue')\n",
        "plt.scatter(X[labelss==2, 5], X[labelss==2, 2], s=50, marker='o', color='green')\n",
        "plt.xlabel(\"Housing\")\n",
        "plt.ylabel(\"Credit Amount\")\n",
        "plt.title(\"Cluster Credit Amount and Housing\")\n",
        "plt.show()"
      ],
      "execution_count": 378,
      "outputs": [
        {
          "output_type": "display_data",
          "data": {
            "image/png": "[encoded data removed]",
            "text/plain": [
              "<Figure size 432x288 with 1 Axes>"
            ]
          },
          "metadata": {
            "tags": []
          }
        }
      ]
    },
    {
      "cell_type": "markdown",
      "metadata": {
        "id": "Z9NjdDAVSPH6",
        "colab_type": "text"
      },
      "source": [
        "### Credit Amount and Purpose"
      ]
    },
    {
      "cell_type": "code",
      "metadata": {
        "id": "VAS8YBt_SMQW",
        "colab_type": "code",
        "colab": {
          "base_uri": "https://localhost:8080/",
          "height": 295
        },
        "outputId": "5d57d450-2309-43df-82b8-34a07ce7e898"
      },
      "source": [
        "plt.scatter(X[labelss==0, 6], X[labelss==0, 2], s=50, marker='o', color='red')\n",
        "plt.scatter(X[labelss==1, 6], X[labelss==1, 2], s=50, marker='o', color='blue')\n",
        "plt.scatter(X[labelss==2, 6], X[labelss==2, 2], s=50, marker='o', color='green')\n",
        "plt.xlabel(\"Purpose\")\n",
        "plt.ylabel(\"Credit Amount\")\n",
        "plt.title(\"Cluster Credit Amount and Purpose\")\n",
        "plt.show()"
      ],
      "execution_count": 380,
      "outputs": [
        {
          "output_type": "display_data",
          "data": {
            "image/png": "[encoded data removed]",
            "text/plain": [
              "<Figure size 432x288 with 1 Axes>"
            ]
          },
          "metadata": {
            "tags": []
          }
        }
      ]
    },
    {
      "cell_type": "markdown",
      "metadata": {
        "id": "IaLpPUarT3OG",
        "colab_type": "text"
      },
      "source": [
        "Based on the graph, we can see that **in the cluster 0 and Cluster 1, Domestic Appliance, Repairs and Vacation purpose is the lowest amount of Credit**.\n",
        "\n",
        "While in the cluster 2, **domestic appliance purpose have the higher amount than other purpose based on Highest Credit Amount.**"
      ]
    },
    {
      "cell_type": "markdown",
      "metadata": {
        "id": "fJDhjZaHB1LW",
        "colab_type": "text"
      },
      "source": [
        "## Clustering Analysis"
      ]
    },
    {
      "cell_type": "code",
      "metadata": {
        "id": "Z0mkLOilGW3z",
        "colab_type": "code",
        "colab": {
          "base_uri": "https://localhost:8080/",
          "height": 85
        },
        "outputId": "8e737c78-1322-41ba-b851-b0a88c3ba654"
      },
      "source": [
        "H=dataset.ClusterHierarchical.value_counts()\n",
        "H"
      ],
      "execution_count": 381,
      "outputs": [
        {
          "output_type": "execute_result",
          "data": {
            "text/plain": [
              "0    779\n",
              "2    165\n",
              "1     56\n",
              "Name: ClusterHierarchical, dtype: int64"
            ]
          },
          "metadata": {
            "tags": []
          },
          "execution_count": 381
        }
      ]
    },
    {
      "cell_type": "markdown",
      "metadata": {
        "id": "JriQbKkKUJLg",
        "colab_type": "text"
      },
      "source": [
        "**Cluster 0 as lower Risk** has the highest value which there was 779 costumer that include\n",
        "- **Credit Amount** : Low (0-4000)\n",
        "- **Duration Credit** : between 0-50\n",
        "- **Age** : between 0-70 but not too much in age betweet 0-50.\n",
        "- **Credit Purpose** : Business, Car, Furniture Equipment.\n",
        "- Have the Same Proportion on **Housing Type and Gender**\n",
        "<br>\n",
        "<br>\n",
        "\n",
        "**Cluster 1 as medium Risk** has the medium value which there was 165 costumer that include :\n",
        "- **Credit Amount** : Medium (4000-8500)\n",
        "- **Duration Credit** : between 0-50, but sometimes can more than 70\n",
        "- **Age** : between 0-70 but too much in age between 0-50.\n",
        "- **Purpose**: Business, Car, Furniture Equipment.\n",
        "- Have the Same Proportion on **Housing Type and Gender**\n",
        "<br>\n",
        "<br>\n",
        "\n",
        "**Cluster 2 as High Risk** has the lowest value which there was only 56 costumer that include :\n",
        "- **Credit Amount** : High (More than 8500)\n",
        "- **Duration Credit** : between 0-60, too much is 37, 49, 60.\n",
        "- **Age** : between 0-50 but sometimes more than age between 0-50.\n",
        "- **Purpose**: Car.\n",
        "- **Housing Type**: Own Housing\n",
        "- **Gender** : Female\n"
      ]
    },
    {
      "cell_type": "markdown",
      "metadata": {
        "id": "Bc9Dvf7WHHTe",
        "colab_type": "text"
      },
      "source": [
        "# DBSCAN"
      ]
    },
    {
      "cell_type": "markdown",
      "metadata": {
        "id": "RVPupylOAPcg",
        "colab_type": "text"
      },
      "source": [
        "### Choosing Amount of Epsilon"
      ]
    },
    {
      "cell_type": "code",
      "metadata": {
        "id": "KQjXn2K_HWPH",
        "colab_type": "code",
        "colab": {
          "base_uri": "https://localhost:8080/",
          "height": 334
        },
        "outputId": "8814c573-8175-4101-e128-e31d94136a23"
      },
      "source": [
        "dataset.describe()"
      ],
      "execution_count": 383,
      "outputs": [
        {
          "output_type": "execute_result",
          "data": {
            "text/html": [
              "<div>\n",
              "<style scoped>\n",
              "    .dataframe tbody tr th:only-of-type {\n",
              "        vertical-align: middle;\n",
              "    }\n",
              "\n",
              "    .dataframe tbody tr th {\n",
              "        vertical-align: top;\n",
              "    }\n",
              "\n",
              "    .dataframe thead th {\n",
              "        text-align: right;\n",
              "    }\n",
              "</style>\n",
              "<table border=\"1\" class=\"dataframe\">\n",
              "  <thead>\n",
              "    <tr style=\"text-align: right;\">\n",
              "      <th></th>\n",
              "      <th>ID</th>\n",
              "      <th>Age</th>\n",
              "      <th>Job</th>\n",
              "      <th>Credit amount</th>\n",
              "      <th>Duration</th>\n",
              "      <th>Sex</th>\n",
              "      <th>Housing</th>\n",
              "      <th>Purpose</th>\n",
              "      <th>ClusterKMeans</th>\n",
              "      <th>ClusterHierarchical</th>\n",
              "    </tr>\n",
              "  </thead>\n",
              "  <tbody>\n",
              "    <tr>\n",
              "      <th>count</th>\n",
              "      <td>1000.000000</td>\n",
              "      <td>1000.000000</td>\n",
              "      <td>1000.000000</td>\n",
              "      <td>1000.000000</td>\n",
              "      <td>1000.000000</td>\n",
              "      <td>1000.000000</td>\n",
              "      <td>1000.000000</td>\n",
              "      <td>1000.000000</td>\n",
              "      <td>1000.000000</td>\n",
              "      <td>1000.000000</td>\n",
              "    </tr>\n",
              "    <tr>\n",
              "      <th>mean</th>\n",
              "      <td>499.500000</td>\n",
              "      <td>35.546000</td>\n",
              "      <td>1.904000</td>\n",
              "      <td>3271.258000</td>\n",
              "      <td>20.903000</td>\n",
              "      <td>0.690000</td>\n",
              "      <td>1.071000</td>\n",
              "      <td>2.878000</td>\n",
              "      <td>0.840000</td>\n",
              "      <td>0.386000</td>\n",
              "    </tr>\n",
              "    <tr>\n",
              "      <th>std</th>\n",
              "      <td>288.819436</td>\n",
              "      <td>11.375469</td>\n",
              "      <td>0.653614</td>\n",
              "      <td>2822.736876</td>\n",
              "      <td>12.058814</td>\n",
              "      <td>0.462725</td>\n",
              "      <td>0.531264</td>\n",
              "      <td>1.978138</td>\n",
              "      <td>0.496635</td>\n",
              "      <td>0.753373</td>\n",
              "    </tr>\n",
              "    <tr>\n",
              "      <th>min</th>\n",
              "      <td>0.000000</td>\n",
              "      <td>19.000000</td>\n",
              "      <td>0.000000</td>\n",
              "      <td>250.000000</td>\n",
              "      <td>4.000000</td>\n",
              "      <td>0.000000</td>\n",
              "      <td>0.000000</td>\n",
              "      <td>0.000000</td>\n",
              "      <td>0.000000</td>\n",
              "      <td>0.000000</td>\n",
              "    </tr>\n",
              "    <tr>\n",
              "      <th>25%</th>\n",
              "      <td>249.750000</td>\n",
              "      <td>27.000000</td>\n",
              "      <td>2.000000</td>\n",
              "      <td>1365.500000</td>\n",
              "      <td>12.000000</td>\n",
              "      <td>0.000000</td>\n",
              "      <td>1.000000</td>\n",
              "      <td>1.000000</td>\n",
              "      <td>1.000000</td>\n",
              "      <td>0.000000</td>\n",
              "    </tr>\n",
              "    <tr>\n",
              "      <th>50%</th>\n",
              "      <td>499.500000</td>\n",
              "      <td>33.000000</td>\n",
              "      <td>2.000000</td>\n",
              "      <td>2319.500000</td>\n",
              "      <td>18.000000</td>\n",
              "      <td>1.000000</td>\n",
              "      <td>1.000000</td>\n",
              "      <td>3.000000</td>\n",
              "      <td>1.000000</td>\n",
              "      <td>0.000000</td>\n",
              "    </tr>\n",
              "    <tr>\n",
              "      <th>75%</th>\n",
              "      <td>749.250000</td>\n",
              "      <td>42.000000</td>\n",
              "      <td>2.000000</td>\n",
              "      <td>3972.250000</td>\n",
              "      <td>24.000000</td>\n",
              "      <td>1.000000</td>\n",
              "      <td>1.000000</td>\n",
              "      <td>5.000000</td>\n",
              "      <td>1.000000</td>\n",
              "      <td>0.000000</td>\n",
              "    </tr>\n",
              "    <tr>\n",
              "      <th>max</th>\n",
              "      <td>999.000000</td>\n",
              "      <td>75.000000</td>\n",
              "      <td>3.000000</td>\n",
              "      <td>18424.000000</td>\n",
              "      <td>72.000000</td>\n",
              "      <td>1.000000</td>\n",
              "      <td>2.000000</td>\n",
              "      <td>7.000000</td>\n",
              "      <td>2.000000</td>\n",
              "      <td>2.000000</td>\n",
              "    </tr>\n",
              "  </tbody>\n",
              "</table>\n",
              "</div>"
            ],
            "text/plain": [
              "                ID          Age  ...  ClusterKMeans  ClusterHierarchical\n",
              "count  1000.000000  1000.000000  ...    1000.000000          1000.000000\n",
              "mean    499.500000    35.546000  ...       0.840000             0.386000\n",
              "std     288.819436    11.375469  ...       0.496635             0.753373\n",
              "min       0.000000    19.000000  ...       0.000000             0.000000\n",
              "25%     249.750000    27.000000  ...       1.000000             0.000000\n",
              "50%     499.500000    33.000000  ...       1.000000             0.000000\n",
              "75%     749.250000    42.000000  ...       1.000000             0.000000\n",
              "max     999.000000    75.000000  ...       2.000000             2.000000\n",
              "\n",
              "[8 rows x 10 columns]"
            ]
          },
          "metadata": {
            "tags": []
          },
          "execution_count": 383
        }
      ]
    },
    {
      "cell_type": "markdown",
      "metadata": {
        "id": "uM5dzVz3Jcd_",
        "colab_type": "text"
      },
      "source": [
        "Based on the credit amount, we know that epsilon can be defined by the lowest Credit Amount because credit amount has the highest correlation with cluster. So the epsilon is 2500."
      ]
    },
    {
      "cell_type": "markdown",
      "metadata": {
        "id": "kjfhX2HCAiuR",
        "colab_type": "text"
      },
      "source": [
        "## Clustering Models"
      ]
    },
    {
      "cell_type": "code",
      "metadata": {
        "id": "l2FE2u-qGar6",
        "colab_type": "code",
        "colab": {
          "base_uri": "https://localhost:8080/",
          "height": 1000
        },
        "outputId": "3635c76b-6d6e-4996-913c-0016407bf8e4"
      },
      "source": [
        "from sklearn.cluster import DBSCAN\n",
        "epsilon = 250\n",
        "minimumSamples = 5\n",
        "dbscan = DBSCAN(eps=epsilon, min_samples=minimumSamples).fit(X)\n",
        "labelsss = dbscan.labels_\n",
        "labelsss"
      ],
      "execution_count": 382,
      "outputs": [
        {
          "output_type": "execute_result",
          "data": {
            "text/plain": [
              "array([ 0,  0,  0,  0,  0,  0,  0,  0,  0,  0,  0,  0,  0,  0,  0,  0,  0,\n",
              "        0,  1,  0,  0,  0,  0,  0,  0,  0,  0,  0,  0,  0,  0,  0,  0,  0,\n",
              "        0,  0,  0,  0,  0,  0,  0,  0,  0,  0,  0,  0,  0,  0,  0,  0,  0,\n",
              "        0,  0,  0,  0,  0,  0,  0,  0,  0,  0,  0,  0, -1,  0,  0,  0,  0,\n",
              "        0,  0,  0,  0,  0,  0,  0,  0,  0,  0,  0,  0,  0,  0,  0,  0,  0,\n",
              "        0,  0,  1,  0,  0,  0,  0,  0,  0,  0, -1,  0,  0,  0,  0,  0,  0,\n",
              "        0,  0,  0,  1,  0,  0,  0,  0,  0,  0,  0,  0,  0,  0,  0,  0,  0,\n",
              "        0,  0,  0,  0,  0,  0,  0,  0,  0,  0,  0,  0,  0,  0,  0,  2,  0,\n",
              "        0,  0,  0,  0,  0,  0,  0,  0,  0,  0,  0,  0,  0,  0,  0,  0,  0,\n",
              "        0,  0,  0,  0,  0,  0,  0,  0,  0,  0,  0,  0,  0,  0,  0,  0,  0,\n",
              "        0,  0,  0,  0,  0,  0,  0,  0,  0,  0,  0,  0,  0,  0,  0,  0,  0,\n",
              "        0,  0,  0,  0,  0,  0,  0,  0,  0,  0,  0,  0,  0,  0,  0,  0,  0,\n",
              "        0,  2,  0,  0,  0,  0,  0,  0,  0,  0,  0,  0,  0,  0,  0,  0,  0,\n",
              "        0,  0,  0,  0,  0,  2,  0,  0,  0,  0,  0,  0,  0,  0,  0, -1,  0,\n",
              "        0,  0,  0,  0,  0,  0,  0,  0,  0,  0,  0,  0,  0,  0,  0,  0,  0,\n",
              "        0,  0,  0,  0,  0,  0,  0,  0,  0,  0,  0,  0,  0,  0,  0,  0,  0,\n",
              "        1,  0,  1,  0,  0,  0,  0,  0,  0,  0,  0,  0,  0,  2,  0,  0,  0,\n",
              "        0,  0,  0,  0,  0,  0,  2,  0,  0,  0,  0,  0,  0,  0,  0,  2,  0,\n",
              "        0,  0,  0,  0,  0,  0,  0,  0,  0,  0,  0,  0,  0,  0,  0,  0,  0,\n",
              "        0,  0,  0,  0,  0,  0,  0,  0,  0,  0,  1,  0,  0,  0,  0,  0,  0,\n",
              "        0,  0,  0,  0,  0,  0,  0,  0,  0,  0,  0,  0,  0,  0,  0,  0,  0,\n",
              "        0,  0,  0,  0,  0,  0,  0,  0,  0,  0,  0,  0,  0,  0,  0,  0, -1,\n",
              "       -1,  0,  0,  0, -1,  0,  0,  1,  0,  0,  0,  0,  0,  0,  0,  0,  0,\n",
              "        0,  0,  0,  0,  1,  0,  0,  0,  0,  0,  0,  0,  0,  0,  0,  0,  0,\n",
              "        0,  0,  0,  0,  0,  0,  0,  0,  0,  0,  0,  0,  0,  0,  0,  0,  0,\n",
              "        0,  0,  0,  0,  0,  0, -1,  0,  0,  0,  0,  0,  0,  0,  0,  0,  0,\n",
              "        0,  0,  0,  0,  0,  0,  0,  0,  2,  0,  0,  0,  0,  0,  0,  0,  0,\n",
              "        0,  0,  0,  0,  0,  0,  0,  0,  0,  0,  0,  0,  0,  0,  0,  0,  0,\n",
              "        0,  0,  0,  0,  0,  0,  0,  0,  0,  0,  0,  0,  0,  0,  0,  0,  0,\n",
              "        0,  0,  0,  0,  0,  0,  0,  0,  0,  0,  0,  0,  0,  0,  0,  0,  0,\n",
              "        0,  0,  0,  0,  0,  0,  0,  0,  0,  0,  0,  0,  0,  0,  0,  0,  0,\n",
              "        0,  0,  0,  0,  0,  0,  0,  0,  0,  0,  0,  0,  0,  0,  0,  0,  0,\n",
              "        0,  0,  0,  0,  0,  0,  0,  0,  0,  0,  0,  0,  0,  0,  0,  0,  0,\n",
              "        0,  0,  1,  0,  0,  0,  0,  0,  0,  0,  0,  0,  0,  0,  0,  0,  0,\n",
              "        0,  0,  0,  0,  0,  0,  0,  0,  0,  0,  0,  0,  0,  0,  0,  0,  0,\n",
              "        0,  0,  0,  0,  0,  0,  0,  0,  0,  0,  0,  0,  0,  0,  0,  0,  0,\n",
              "        0,  0,  0,  1,  0,  0,  0,  0,  0,  0,  0,  0,  0,  0,  0,  0,  0,\n",
              "        0,  0,  0,  0,  0,  0,  0,  0, -1,  0,  0,  0,  0,  0,  0,  0,  0,\n",
              "        0,  0,  0,  0,  0,  0,  0,  0,  0,  0,  0,  2,  0,  0,  0,  0,  0,\n",
              "        0,  0,  0,  0,  0,  0,  0,  0,  0,  2,  0,  0,  0,  0,  0,  0,  0,\n",
              "        0,  0,  0,  0,  0,  0,  0,  0,  0,  0,  0,  0,  0,  0,  0,  0,  0,\n",
              "        0,  0,  0,  0,  0,  0,  0,  0,  0,  0,  0,  0,  0,  0,  0,  0,  0,\n",
              "       -1,  0,  0,  0,  0,  0,  0,  0,  0,  0,  0,  0,  0,  0,  0,  0,  0,\n",
              "        0,  0,  0,  0,  0,  1,  0,  0,  0,  0,  0,  0,  0, -1,  0,  0,  0,\n",
              "        0,  0,  0,  0,  0,  0,  0,  0,  0,  0,  0,  0,  0,  0,  0,  1,  0,\n",
              "        0,  0,  0,  0,  0,  0,  0,  0,  0,  0,  0,  0,  0,  0,  0,  0,  0,\n",
              "        0,  0,  0,  0,  0,  0,  0,  0,  0,  0,  0,  0,  0,  0,  0,  0,  0,\n",
              "        0,  0,  0,  0,  0,  0,  0,  0,  0,  0,  0,  0,  0,  0,  0,  0,  0,\n",
              "        0,  0, -1,  0,  0,  0,  0,  0,  0,  0,  0,  0,  0,  0,  0,  0,  1,\n",
              "        0,  0,  0,  0,  0,  0,  0,  0,  0,  0,  0,  0,  0,  0,  0,  0,  0,\n",
              "        0,  0,  0,  0,  2,  0,  0,  0,  0,  0,  0,  0,  0,  0,  0,  0,  0,\n",
              "        0,  0,  0,  0,  0,  0,  0,  0,  0,  0,  0,  0,  0,  0,  0,  0,  0,\n",
              "        0,  0,  0, -1,  0,  0,  0,  0,  0,  0,  0,  0,  0,  0,  0,  0,  0,\n",
              "        0,  2,  0,  0,  0,  0,  0,  0,  0,  0,  0,  0,  0,  0, -1,  0, -1,\n",
              "        0,  0,  0,  1,  0,  0,  0,  0,  0,  2,  0,  0,  0,  0,  0,  0,  0,\n",
              "        0,  0,  0,  0,  0,  0,  0,  0,  0,  0,  0,  0,  0,  0,  0,  0,  0,\n",
              "        0,  2,  0,  0,  0,  0,  0,  0,  0,  0,  0,  0,  0,  0,  0,  0,  0,\n",
              "        0,  0,  0,  0,  0,  0,  0,  0,  0,  0,  0,  0,  0,  0,  0,  0,  0,\n",
              "        0,  0,  0,  0,  0,  0,  0,  0,  0,  0,  0,  0,  0,  0])"
            ]
          },
          "metadata": {
            "tags": []
          },
          "execution_count": 382
        }
      ]
    },
    {
      "cell_type": "code",
      "metadata": {
        "id": "wquPNIWLIdsZ",
        "colab_type": "code",
        "colab": {
          "base_uri": "https://localhost:8080/",
          "height": 204
        },
        "outputId": "5e0fd1f4-1493-4b10-c18e-eaed95f12d8a"
      },
      "source": [
        "dataset[\"ClusterDBSCAN\"] = labelsss\n",
        "dataset.head()"
      ],
      "execution_count": 384,
      "outputs": [
        {
          "output_type": "execute_result",
          "data": {
            "text/html": [
              "<div>\n",
              "<style scoped>\n",
              "    .dataframe tbody tr th:only-of-type {\n",
              "        vertical-align: middle;\n",
              "    }\n",
              "\n",
              "    .dataframe tbody tr th {\n",
              "        vertical-align: top;\n",
              "    }\n",
              "\n",
              "    .dataframe thead th {\n",
              "        text-align: right;\n",
              "    }\n",
              "</style>\n",
              "<table border=\"1\" class=\"dataframe\">\n",
              "  <thead>\n",
              "    <tr style=\"text-align: right;\">\n",
              "      <th></th>\n",
              "      <th>ID</th>\n",
              "      <th>Age</th>\n",
              "      <th>Job</th>\n",
              "      <th>Credit amount</th>\n",
              "      <th>Duration</th>\n",
              "      <th>Sex</th>\n",
              "      <th>Housing</th>\n",
              "      <th>Purpose</th>\n",
              "      <th>ClusterKMeans</th>\n",
              "      <th>ClusterHierarchical</th>\n",
              "      <th>ClusterDBSCAN</th>\n",
              "    </tr>\n",
              "  </thead>\n",
              "  <tbody>\n",
              "    <tr>\n",
              "      <th>0</th>\n",
              "      <td>0</td>\n",
              "      <td>67</td>\n",
              "      <td>2</td>\n",
              "      <td>1169</td>\n",
              "      <td>6</td>\n",
              "      <td>1</td>\n",
              "      <td>1</td>\n",
              "      <td>5</td>\n",
              "      <td>1</td>\n",
              "      <td>0</td>\n",
              "      <td>0</td>\n",
              "    </tr>\n",
              "    <tr>\n",
              "      <th>1</th>\n",
              "      <td>1</td>\n",
              "      <td>22</td>\n",
              "      <td>2</td>\n",
              "      <td>5951</td>\n",
              "      <td>48</td>\n",
              "      <td>0</td>\n",
              "      <td>1</td>\n",
              "      <td>5</td>\n",
              "      <td>0</td>\n",
              "      <td>2</td>\n",
              "      <td>0</td>\n",
              "    </tr>\n",
              "    <tr>\n",
              "      <th>2</th>\n",
              "      <td>2</td>\n",
              "      <td>49</td>\n",
              "      <td>1</td>\n",
              "      <td>2096</td>\n",
              "      <td>12</td>\n",
              "      <td>1</td>\n",
              "      <td>1</td>\n",
              "      <td>3</td>\n",
              "      <td>1</td>\n",
              "      <td>0</td>\n",
              "      <td>0</td>\n",
              "    </tr>\n",
              "    <tr>\n",
              "      <th>3</th>\n",
              "      <td>3</td>\n",
              "      <td>45</td>\n",
              "      <td>2</td>\n",
              "      <td>7882</td>\n",
              "      <td>42</td>\n",
              "      <td>1</td>\n",
              "      <td>0</td>\n",
              "      <td>4</td>\n",
              "      <td>0</td>\n",
              "      <td>2</td>\n",
              "      <td>0</td>\n",
              "    </tr>\n",
              "    <tr>\n",
              "      <th>4</th>\n",
              "      <td>4</td>\n",
              "      <td>53</td>\n",
              "      <td>2</td>\n",
              "      <td>4870</td>\n",
              "      <td>24</td>\n",
              "      <td>1</td>\n",
              "      <td>0</td>\n",
              "      <td>1</td>\n",
              "      <td>0</td>\n",
              "      <td>2</td>\n",
              "      <td>0</td>\n",
              "    </tr>\n",
              "  </tbody>\n",
              "</table>\n",
              "</div>"
            ],
            "text/plain": [
              "   ID  Age  Job  ...  ClusterKMeans  ClusterHierarchical  ClusterDBSCAN\n",
              "0   0   67    2  ...              1                    0              0\n",
              "1   1   22    2  ...              0                    2              0\n",
              "2   2   49    1  ...              1                    0              0\n",
              "3   3   45    2  ...              0                    2              0\n",
              "4   4   53    2  ...              0                    2              0\n",
              "\n",
              "[5 rows x 11 columns]"
            ]
          },
          "metadata": {
            "tags": []
          },
          "execution_count": 384
        }
      ]
    },
    {
      "cell_type": "markdown",
      "metadata": {
        "id": "SWlpgCIDAn3u",
        "colab_type": "text"
      },
      "source": [
        "##Clustering Visualization"
      ]
    },
    {
      "cell_type": "code",
      "metadata": {
        "id": "PXdNt24NL-8X",
        "colab_type": "code",
        "colab": {
          "base_uri": "https://localhost:8080/",
          "height": 295
        },
        "outputId": "bd4c74f8-a624-4a3f-c91b-fd88b79387d3"
      },
      "source": [
        "plt.scatter(X[:,0],X[:,2], c=dbscan.labels_, cmap='rainbow')\n",
        "plt.xlabel(\"ID\")\n",
        "plt.ylabel(\"Price\")\n",
        "plt.title(\"Clustering AutoMobile with DBSCAN\")\n",
        "plt.show()"
      ],
      "execution_count": 385,
      "outputs": [
        {
          "output_type": "display_data",
          "data": {
            "image/png": "[encoded data removed]",
            "text/plain": [
              "<Figure size 432x288 with 1 Axes>"
            ]
          },
          "metadata": {
            "tags": []
          }
        }
      ]
    },
    {
      "cell_type": "code",
      "metadata": {
        "id": "CfeFqPbEHadK",
        "colab_type": "code",
        "colab": {
          "base_uri": "https://localhost:8080/",
          "height": 102
        },
        "outputId": "f776d42f-d771-47b8-91b3-df9f65d14ea6"
      },
      "source": [
        "D=dataset.ClusterDBSCAN.value_counts()\n",
        "D"
      ],
      "execution_count": 386,
      "outputs": [
        {
          "output_type": "execute_result",
          "data": {
            "text/plain": [
              " 0    959\n",
              "-1     14\n",
              " 1     14\n",
              " 2     13\n",
              "Name: ClusterDBSCAN, dtype: int64"
            ]
          },
          "metadata": {
            "tags": []
          },
          "execution_count": 386
        }
      ]
    },
    {
      "cell_type": "markdown",
      "metadata": {
        "id": "ERY3BowcJtom",
        "colab_type": "text"
      },
      "source": [
        "The different of  -1,1,2  cluster amount is too far away from cluster 0 that means this algorithm can be taken because too much outlier in the clustering method."
      ]
    },
    {
      "cell_type": "markdown",
      "metadata": {
        "id": "ILFBZ6iJAtY0",
        "colab_type": "text"
      },
      "source": [
        "## Clustering Analysis"
      ]
    },
    {
      "cell_type": "markdown",
      "metadata": {
        "id": "Rj3oUCtVCBCY",
        "colab_type": "text"
      },
      "source": [
        "# Conclusion"
      ]
    },
    {
      "cell_type": "markdown",
      "metadata": {
        "id": "KaKVml9fCQKa",
        "colab_type": "text"
      },
      "source": [
        "### 1. Best Algorithm\n",
        "\n",
        "I think K-Means is the best algorithm because \n",
        "- It can make a certain n-cluster\n",
        "- It have a little density for every cluster\n",
        "- It easy to understand by the visualization"
      ]
    },
    {
      "cell_type": "markdown",
      "metadata": {
        "id": "f_5RJI2TCUdS",
        "colab_type": "text"
      },
      "source": [
        "### 2. Customer Segment Based K-Means\n",
        "\n",
        "There was 3 segment of costumer because the n-cluster is 3\n",
        "\n",
        "**Low Risk Customer**\n",
        "- Credit Amount : Low (0-4000)\n",
        "- Duration Credit : between 0-50\n",
        "- Age : between 0-70 but not too much in age betweet 0-50.\n",
        "- Credit Purpose : Business, Car, Furniture Equipment.\n",
        "\n",
        "**Medium Risk Customer**\n",
        "\n",
        "- Credit Amount : Medium (4000-8500)\n",
        "- Duration Credit : between 0-50, but sometimes can more than 70\n",
        "- Age : between 0-70 but too much in age between 0-50.\n",
        "- Purpose: Business, Car, Furniture Equipment.\n",
        "\n",
        "\n",
        "**High Risk Customer**\n",
        "\n",
        "Credit Amount : High (More than 8500)\n",
        "Duration Credit : between 0-60, too much is 37, 49, 60.\n",
        "Age : between 0-50 but sometimes more than age between 0-50.\n",
        "Purpose: Car.\n",
        "Housing Type: Own Housing\n",
        "Gender : Female"
      ]
    },
    {
      "cell_type": "markdown",
      "metadata": {
        "id": "2wwSt5HhCYoE",
        "colab_type": "text"
      },
      "source": [
        "## 3. Benefits For Client/Department\n",
        " This Clustering Data Can help client and department to get the benefit in business like :\n"
      ]
    },
    {
      "cell_type": "markdown",
      "metadata": {
        "id": "ZEisBTd2GKBi",
        "colab_type": "text"
      },
      "source": [
        "### Operational Department\n",
        "\n",
        "Operational Department can get the benefit with knowing who is costumer who can get the credit by this Condition\n",
        "<br>\n",
        "<br>\n",
        "\n",
        "Give **a possible Credit** for Customer who have a low risk and medium risk with the criteria :\n",
        "1.  **Credit Amount** in 0-8500\n",
        "2.  **Duration Credit** in 0-70\n",
        "3.  **Age** between 0-50\n",
        "4. **Credit** Purpose for Business, Car, and Furniture Equipment\n",
        "5. **Gender and Housing Type** it doesnt matter.\n",
        "\n",
        "**Minimize The Credit** For Costumer who have a high risk with criteria :\n",
        "- **Credit Amount** : More than 8500\n",
        "- **Duration Credit** : age in 37, 49, 60.\n",
        "- **Age** : between 50-70 \n",
        "- **Purpose**: Car.\n",
        "- **Housing Type**: Own Housing\n",
        "- **Gender** : Female"
      ]
    },
    {
      "cell_type": "markdown",
      "metadata": {
        "id": "Sc4FS4kBGcj-",
        "colab_type": "text"
      },
      "source": [
        "### Marketing Department\n",
        "\n",
        "- Make a promo when there was a customer with Credit Purpose for Business, Car and Furniture Equipment beaucse it purpose have a low risk\n",
        "- Make a reward for costumer who have a credit amount in 0-8500 and giving back the credit on time\n",
        "- Make a discount for customer who have a duration promo in 0-35 in age between 25-50\n",
        "\n",
        "Notes (Age 0-35 is a half age in 70 that is in the low risk costumer segment and 25-50 is a productive age to work that is possible to pay the credit)"
      ]
    },
    {
      "cell_type": "markdown",
      "metadata": {
        "id": "wE6qzOl7Iu11",
        "colab_type": "text"
      },
      "source": [
        "### Client Benefit\n",
        "\n",
        "Can get a promo and reward for Marketing Department if they are include in costumer with low risk segment."
      ]
    }
  ]
}